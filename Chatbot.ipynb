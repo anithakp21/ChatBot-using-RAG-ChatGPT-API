{
  "nbformat": 4,
  "nbformat_minor": 0,
  "metadata": {
    "colab": {
      "provenance": [],
      "toc_visible": true
    },
    "kernelspec": {
      "name": "python3",
      "display_name": "Python 3"
    },
    "language_info": {
      "name": "python"
    }
  },
  "cells": [
    {
      "cell_type": "markdown",
      "source": [
        "# Imports"
      ],
      "metadata": {
        "id": "ynPOeuSNbPxv"
      }
    },
    {
      "cell_type": "code",
      "execution_count": null,
      "metadata": {
        "colab": {
          "base_uri": "https://localhost:8080/"
        },
        "id": "sARa-510avZv",
        "outputId": "4b4ec60d-3565-402c-a5d6-190da7c1a8ca"
      },
      "outputs": [
        {
          "output_type": "stream",
          "name": "stdout",
          "text": [
            "Collecting openai\n",
            "  Downloading openai-0.27.8-py3-none-any.whl (73 kB)\n",
            "\u001b[?25l     \u001b[90m━━━━━━━━━━━━━━━━━━━━━━━━━━━━━━━━━━━━━━━━\u001b[0m \u001b[32m0.0/73.6 kB\u001b[0m \u001b[31m?\u001b[0m eta \u001b[36m-:--:--\u001b[0m\r\u001b[2K     \u001b[91m━━━━━━━━━━━━━━━━\u001b[0m\u001b[91m╸\u001b[0m\u001b[90m━━━━━━━━━━━━━━━━━━━━━━━\u001b[0m \u001b[32m30.7/73.6 kB\u001b[0m \u001b[31m1.0 MB/s\u001b[0m eta \u001b[36m0:00:01\u001b[0m\r\u001b[2K     \u001b[90m━━━━━━━━━━━━━━━━━━━━━━━━━━━━━━━━━━━━━━━━\u001b[0m \u001b[32m73.6/73.6 kB\u001b[0m \u001b[31m1.4 MB/s\u001b[0m eta \u001b[36m0:00:00\u001b[0m\n",
            "\u001b[?25hRequirement already satisfied: requests>=2.20 in /usr/local/lib/python3.10/dist-packages (from openai) (2.27.1)\n",
            "Requirement already satisfied: tqdm in /usr/local/lib/python3.10/dist-packages (from openai) (4.65.0)\n",
            "Requirement already satisfied: aiohttp in /usr/local/lib/python3.10/dist-packages (from openai) (3.8.4)\n",
            "Requirement already satisfied: urllib3<1.27,>=1.21.1 in /usr/local/lib/python3.10/dist-packages (from requests>=2.20->openai) (1.26.16)\n",
            "Requirement already satisfied: certifi>=2017.4.17 in /usr/local/lib/python3.10/dist-packages (from requests>=2.20->openai) (2023.5.7)\n",
            "Requirement already satisfied: charset-normalizer~=2.0.0 in /usr/local/lib/python3.10/dist-packages (from requests>=2.20->openai) (2.0.12)\n",
            "Requirement already satisfied: idna<4,>=2.5 in /usr/local/lib/python3.10/dist-packages (from requests>=2.20->openai) (3.4)\n",
            "Requirement already satisfied: attrs>=17.3.0 in /usr/local/lib/python3.10/dist-packages (from aiohttp->openai) (23.1.0)\n",
            "Requirement already satisfied: multidict<7.0,>=4.5 in /usr/local/lib/python3.10/dist-packages (from aiohttp->openai) (6.0.4)\n",
            "Requirement already satisfied: async-timeout<5.0,>=4.0.0a3 in /usr/local/lib/python3.10/dist-packages (from aiohttp->openai) (4.0.2)\n",
            "Requirement already satisfied: yarl<2.0,>=1.0 in /usr/local/lib/python3.10/dist-packages (from aiohttp->openai) (1.9.2)\n",
            "Requirement already satisfied: frozenlist>=1.1.1 in /usr/local/lib/python3.10/dist-packages (from aiohttp->openai) (1.4.0)\n",
            "Requirement already satisfied: aiosignal>=1.1.2 in /usr/local/lib/python3.10/dist-packages (from aiohttp->openai) (1.3.1)\n",
            "Installing collected packages: openai\n",
            "Successfully installed openai-0.27.8\n",
            "Requirement already satisfied: openai in /usr/local/lib/python3.10/dist-packages (0.27.8)\n",
            "Requirement already satisfied: requests>=2.20 in /usr/local/lib/python3.10/dist-packages (from openai) (2.27.1)\n",
            "Requirement already satisfied: tqdm in /usr/local/lib/python3.10/dist-packages (from openai) (4.65.0)\n",
            "Requirement already satisfied: aiohttp in /usr/local/lib/python3.10/dist-packages (from openai) (3.8.4)\n",
            "Requirement already satisfied: urllib3<1.27,>=1.21.1 in /usr/local/lib/python3.10/dist-packages (from requests>=2.20->openai) (1.26.16)\n",
            "Requirement already satisfied: certifi>=2017.4.17 in /usr/local/lib/python3.10/dist-packages (from requests>=2.20->openai) (2023.5.7)\n",
            "Requirement already satisfied: charset-normalizer~=2.0.0 in /usr/local/lib/python3.10/dist-packages (from requests>=2.20->openai) (2.0.12)\n",
            "Requirement already satisfied: idna<4,>=2.5 in /usr/local/lib/python3.10/dist-packages (from requests>=2.20->openai) (3.4)\n",
            "Requirement already satisfied: attrs>=17.3.0 in /usr/local/lib/python3.10/dist-packages (from aiohttp->openai) (23.1.0)\n",
            "Requirement already satisfied: multidict<7.0,>=4.5 in /usr/local/lib/python3.10/dist-packages (from aiohttp->openai) (6.0.4)\n",
            "Requirement already satisfied: async-timeout<5.0,>=4.0.0a3 in /usr/local/lib/python3.10/dist-packages (from aiohttp->openai) (4.0.2)\n",
            "Requirement already satisfied: yarl<2.0,>=1.0 in /usr/local/lib/python3.10/dist-packages (from aiohttp->openai) (1.9.2)\n",
            "Requirement already satisfied: frozenlist>=1.1.1 in /usr/local/lib/python3.10/dist-packages (from aiohttp->openai) (1.4.0)\n",
            "Requirement already satisfied: aiosignal>=1.1.2 in /usr/local/lib/python3.10/dist-packages (from aiohttp->openai) (1.3.1)\n",
            "Collecting chromadb\n",
            "  Downloading chromadb-0.4.2-py3-none-any.whl (399 kB)\n",
            "\u001b[2K     \u001b[90m━━━━━━━━━━━━━━━━━━━━━━━━━━━━━━━━━━━━━━━\u001b[0m \u001b[32m399.3/399.3 kB\u001b[0m \u001b[31m5.6 MB/s\u001b[0m eta \u001b[36m0:00:00\u001b[0m\n",
            "\u001b[?25hRequirement already satisfied: pandas>=1.3 in /usr/local/lib/python3.10/dist-packages (from chromadb) (1.5.3)\n",
            "Collecting requests>=2.28 (from chromadb)\n",
            "  Downloading requests-2.31.0-py3-none-any.whl (62 kB)\n",
            "\u001b[2K     \u001b[90m━━━━━━━━━━━━━━━━━━━━━━━━━━━━━━━━━━━━━━━━\u001b[0m \u001b[32m62.6/62.6 kB\u001b[0m \u001b[31m8.6 MB/s\u001b[0m eta \u001b[36m0:00:00\u001b[0m\n",
            "\u001b[?25hRequirement already satisfied: pydantic<2.0,>=1.9 in /usr/local/lib/python3.10/dist-packages (from chromadb) (1.10.11)\n",
            "Collecting chroma-hnswlib==0.7.1 (from chromadb)\n",
            "  Downloading chroma-hnswlib-0.7.1.tar.gz (30 kB)\n",
            "  Installing build dependencies ... \u001b[?25l\u001b[?25hdone\n",
            "  Getting requirements to build wheel ... \u001b[?25l\u001b[?25hdone\n",
            "  Preparing metadata (pyproject.toml) ... \u001b[?25l\u001b[?25hdone\n",
            "Collecting fastapi<0.100.0,>=0.95.2 (from chromadb)\n",
            "  Downloading fastapi-0.99.1-py3-none-any.whl (58 kB)\n",
            "\u001b[2K     \u001b[90m━━━━━━━━━━━━━━━━━━━━━━━━━━━━━━━━━━━━━━━━\u001b[0m \u001b[32m58.4/58.4 kB\u001b[0m \u001b[31m7.7 MB/s\u001b[0m eta \u001b[36m0:00:00\u001b[0m\n",
            "\u001b[?25hCollecting uvicorn[standard]>=0.18.3 (from chromadb)\n",
            "  Downloading uvicorn-0.23.1-py3-none-any.whl (59 kB)\n",
            "\u001b[2K     \u001b[90m━━━━━━━━━━━━━━━━━━━━━━━━━━━━━━━━━━━━━━━━\u001b[0m \u001b[32m59.5/59.5 kB\u001b[0m \u001b[31m7.4 MB/s\u001b[0m eta \u001b[36m0:00:00\u001b[0m\n",
            "\u001b[?25hRequirement already satisfied: numpy>=1.21.6 in /usr/local/lib/python3.10/dist-packages (from chromadb) (1.22.4)\n",
            "Collecting posthog>=2.4.0 (from chromadb)\n",
            "  Downloading posthog-3.0.1-py2.py3-none-any.whl (37 kB)\n",
            "Requirement already satisfied: typing-extensions>=4.5.0 in /usr/local/lib/python3.10/dist-packages (from chromadb) (4.7.1)\n",
            "Collecting pulsar-client>=3.1.0 (from chromadb)\n",
            "  Downloading pulsar_client-3.2.0-cp310-cp310-manylinux_2_17_x86_64.manylinux2014_x86_64.whl (5.3 MB)\n",
            "\u001b[2K     \u001b[90m━━━━━━━━━━━━━━━━━━━━━━━━━━━━━━━━━━━━━━━━\u001b[0m \u001b[32m5.3/5.3 MB\u001b[0m \u001b[31m19.6 MB/s\u001b[0m eta \u001b[36m0:00:00\u001b[0m\n",
            "\u001b[?25hCollecting onnxruntime>=1.14.1 (from chromadb)\n",
            "  Downloading onnxruntime-1.15.1-cp310-cp310-manylinux_2_17_x86_64.manylinux2014_x86_64.whl (5.9 MB)\n",
            "\u001b[2K     \u001b[90m━━━━━━━━━━━━━━━━━━━━━━━━━━━━━━━━━━━━━━━━\u001b[0m \u001b[32m5.9/5.9 MB\u001b[0m \u001b[31m46.5 MB/s\u001b[0m eta \u001b[36m0:00:00\u001b[0m\n",
            "\u001b[?25hCollecting tokenizers>=0.13.2 (from chromadb)\n",
            "  Downloading tokenizers-0.13.3-cp310-cp310-manylinux_2_17_x86_64.manylinux2014_x86_64.whl (7.8 MB)\n",
            "\u001b[2K     \u001b[90m━━━━━━━━━━━━━━━━━━━━━━━━━━━━━━━━━━━━━━━━\u001b[0m \u001b[32m7.8/7.8 MB\u001b[0m \u001b[31m70.6 MB/s\u001b[0m eta \u001b[36m0:00:00\u001b[0m\n",
            "\u001b[?25hCollecting pypika>=0.48.9 (from chromadb)\n",
            "  Downloading PyPika-0.48.9.tar.gz (67 kB)\n",
            "\u001b[2K     \u001b[90m━━━━━━━━━━━━━━━━━━━━━━━━━━━━━━━━━━━━━━━━\u001b[0m \u001b[32m67.3/67.3 kB\u001b[0m \u001b[31m9.3 MB/s\u001b[0m eta \u001b[36m0:00:00\u001b[0m\n",
            "\u001b[?25h  Installing build dependencies ... \u001b[?25l\u001b[?25hdone\n",
            "  Getting requirements to build wheel ... \u001b[?25l\u001b[?25hdone\n",
            "  Preparing metadata (pyproject.toml) ... \u001b[?25l\u001b[?25hdone\n",
            "Requirement already satisfied: tqdm>=4.65.0 in /usr/local/lib/python3.10/dist-packages (from chromadb) (4.65.0)\n",
            "Collecting overrides>=7.3.1 (from chromadb)\n",
            "  Downloading overrides-7.3.1-py3-none-any.whl (17 kB)\n",
            "Requirement already satisfied: importlib-resources in /usr/local/lib/python3.10/dist-packages (from chromadb) (6.0.0)\n",
            "Collecting starlette<0.28.0,>=0.27.0 (from fastapi<0.100.0,>=0.95.2->chromadb)\n",
            "  Downloading starlette-0.27.0-py3-none-any.whl (66 kB)\n",
            "\u001b[2K     \u001b[90m━━━━━━━━━━━━━━━━━━━━━━━━━━━━━━━━━━━━━━━━\u001b[0m \u001b[32m67.0/67.0 kB\u001b[0m \u001b[31m9.3 MB/s\u001b[0m eta \u001b[36m0:00:00\u001b[0m\n",
            "\u001b[?25hCollecting coloredlogs (from onnxruntime>=1.14.1->chromadb)\n",
            "  Downloading coloredlogs-15.0.1-py2.py3-none-any.whl (46 kB)\n",
            "\u001b[2K     \u001b[90m━━━━━━━━━━━━━━━━━━━━━━━━━━━━━━━━━━━━━━━━\u001b[0m \u001b[32m46.0/46.0 kB\u001b[0m \u001b[31m6.0 MB/s\u001b[0m eta \u001b[36m0:00:00\u001b[0m\n",
            "\u001b[?25hRequirement already satisfied: flatbuffers in /usr/local/lib/python3.10/dist-packages (from onnxruntime>=1.14.1->chromadb) (23.5.26)\n",
            "Requirement already satisfied: packaging in /usr/local/lib/python3.10/dist-packages (from onnxruntime>=1.14.1->chromadb) (23.1)\n",
            "Requirement already satisfied: protobuf in /usr/local/lib/python3.10/dist-packages (from onnxruntime>=1.14.1->chromadb) (3.20.3)\n",
            "Requirement already satisfied: sympy in /usr/local/lib/python3.10/dist-packages (from onnxruntime>=1.14.1->chromadb) (1.11.1)\n",
            "Requirement already satisfied: python-dateutil>=2.8.1 in /usr/local/lib/python3.10/dist-packages (from pandas>=1.3->chromadb) (2.8.2)\n",
            "Requirement already satisfied: pytz>=2020.1 in /usr/local/lib/python3.10/dist-packages (from pandas>=1.3->chromadb) (2022.7.1)\n",
            "Requirement already satisfied: six>=1.5 in /usr/local/lib/python3.10/dist-packages (from posthog>=2.4.0->chromadb) (1.16.0)\n",
            "Collecting monotonic>=1.5 (from posthog>=2.4.0->chromadb)\n",
            "  Downloading monotonic-1.6-py2.py3-none-any.whl (8.2 kB)\n",
            "Collecting backoff>=1.10.0 (from posthog>=2.4.0->chromadb)\n",
            "  Downloading backoff-2.2.1-py3-none-any.whl (15 kB)\n",
            "Requirement already satisfied: certifi in /usr/local/lib/python3.10/dist-packages (from pulsar-client>=3.1.0->chromadb) (2023.5.7)\n",
            "Requirement already satisfied: charset-normalizer<4,>=2 in /usr/local/lib/python3.10/dist-packages (from requests>=2.28->chromadb) (2.0.12)\n",
            "Requirement already satisfied: idna<4,>=2.5 in /usr/local/lib/python3.10/dist-packages (from requests>=2.28->chromadb) (3.4)\n",
            "Requirement already satisfied: urllib3<3,>=1.21.1 in /usr/local/lib/python3.10/dist-packages (from requests>=2.28->chromadb) (1.26.16)\n",
            "Requirement already satisfied: click>=7.0 in /usr/local/lib/python3.10/dist-packages (from uvicorn[standard]>=0.18.3->chromadb) (8.1.4)\n",
            "Collecting h11>=0.8 (from uvicorn[standard]>=0.18.3->chromadb)\n",
            "  Downloading h11-0.14.0-py3-none-any.whl (58 kB)\n",
            "\u001b[2K     \u001b[90m━━━━━━━━━━━━━━━━━━━━━━━━━━━━━━━━━━━━━━━━\u001b[0m \u001b[32m58.3/58.3 kB\u001b[0m \u001b[31m7.3 MB/s\u001b[0m eta \u001b[36m0:00:00\u001b[0m\n",
            "\u001b[?25hCollecting httptools>=0.5.0 (from uvicorn[standard]>=0.18.3->chromadb)\n",
            "  Downloading httptools-0.6.0-cp310-cp310-manylinux_2_5_x86_64.manylinux1_x86_64.manylinux_2_17_x86_64.manylinux2014_x86_64.whl (428 kB)\n",
            "\u001b[2K     \u001b[90m━━━━━━━━━━━━━━━━━━━━━━━━━━━━━━━━━━━━━━\u001b[0m \u001b[32m428.8/428.8 kB\u001b[0m \u001b[31m42.2 MB/s\u001b[0m eta \u001b[36m0:00:00\u001b[0m\n",
            "\u001b[?25hCollecting python-dotenv>=0.13 (from uvicorn[standard]>=0.18.3->chromadb)\n",
            "  Downloading python_dotenv-1.0.0-py3-none-any.whl (19 kB)\n",
            "Requirement already satisfied: pyyaml>=5.1 in /usr/local/lib/python3.10/dist-packages (from uvicorn[standard]>=0.18.3->chromadb) (6.0)\n",
            "Collecting uvloop!=0.15.0,!=0.15.1,>=0.14.0 (from uvicorn[standard]>=0.18.3->chromadb)\n",
            "  Downloading uvloop-0.17.0-cp310-cp310-manylinux_2_17_x86_64.manylinux2014_x86_64.whl (4.1 MB)\n",
            "\u001b[2K     \u001b[90m━━━━━━━━━━━━━━━━━━━━━━━━━━━━━━━━━━━━━━━━\u001b[0m \u001b[32m4.1/4.1 MB\u001b[0m \u001b[31m82.2 MB/s\u001b[0m eta \u001b[36m0:00:00\u001b[0m\n",
            "\u001b[?25hCollecting watchfiles>=0.13 (from uvicorn[standard]>=0.18.3->chromadb)\n",
            "  Downloading watchfiles-0.19.0-cp37-abi3-manylinux_2_17_x86_64.manylinux2014_x86_64.whl (1.3 MB)\n",
            "\u001b[2K     \u001b[90m━━━━━━━━━━━━━━━━━━━━━━━━━━━━━━━━━━━━━━━━\u001b[0m \u001b[32m1.3/1.3 MB\u001b[0m \u001b[31m75.2 MB/s\u001b[0m eta \u001b[36m0:00:00\u001b[0m\n",
            "\u001b[?25hCollecting websockets>=10.4 (from uvicorn[standard]>=0.18.3->chromadb)\n",
            "  Downloading websockets-11.0.3-cp310-cp310-manylinux_2_5_x86_64.manylinux1_x86_64.manylinux_2_17_x86_64.manylinux2014_x86_64.whl (129 kB)\n",
            "\u001b[2K     \u001b[90m━━━━━━━━━━━━━━━━━━━━━━━━━━━━━━━━━━━━━━\u001b[0m \u001b[32m129.9/129.9 kB\u001b[0m \u001b[31m13.7 MB/s\u001b[0m eta \u001b[36m0:00:00\u001b[0m\n",
            "\u001b[?25hRequirement already satisfied: anyio<5,>=3.4.0 in /usr/local/lib/python3.10/dist-packages (from starlette<0.28.0,>=0.27.0->fastapi<0.100.0,>=0.95.2->chromadb) (3.7.1)\n",
            "Collecting humanfriendly>=9.1 (from coloredlogs->onnxruntime>=1.14.1->chromadb)\n",
            "  Downloading humanfriendly-10.0-py2.py3-none-any.whl (86 kB)\n",
            "\u001b[2K     \u001b[90m━━━━━━━━━━━━━━━━━━━━━━━━━━━━━━━━━━━━━━━━\u001b[0m \u001b[32m86.8/86.8 kB\u001b[0m \u001b[31m10.7 MB/s\u001b[0m eta \u001b[36m0:00:00\u001b[0m\n",
            "\u001b[?25hRequirement already satisfied: mpmath>=0.19 in /usr/local/lib/python3.10/dist-packages (from sympy->onnxruntime>=1.14.1->chromadb) (1.3.0)\n",
            "Requirement already satisfied: sniffio>=1.1 in /usr/local/lib/python3.10/dist-packages (from anyio<5,>=3.4.0->starlette<0.28.0,>=0.27.0->fastapi<0.100.0,>=0.95.2->chromadb) (1.3.0)\n",
            "Requirement already satisfied: exceptiongroup in /usr/local/lib/python3.10/dist-packages (from anyio<5,>=3.4.0->starlette<0.28.0,>=0.27.0->fastapi<0.100.0,>=0.95.2->chromadb) (1.1.2)\n",
            "Building wheels for collected packages: chroma-hnswlib, pypika\n",
            "  Building wheel for chroma-hnswlib (pyproject.toml) ... \u001b[?25l\u001b[?25hdone\n",
            "  Created wheel for chroma-hnswlib: filename=chroma_hnswlib-0.7.1-cp310-cp310-linux_x86_64.whl size=2273161 sha256=3450acb806bdba7db46cda773f5ad4fbf6e4d47bf4de5a2f433f1cadc43c8f3d\n",
            "  Stored in directory: /root/.cache/pip/wheels/ad/f2/d2/3f32228e9f4713a9f32a468de8bbc3c642f7805ebef888418b\n",
            "  Building wheel for pypika (pyproject.toml) ... \u001b[?25l\u001b[?25hdone\n",
            "  Created wheel for pypika: filename=PyPika-0.48.9-py2.py3-none-any.whl size=53723 sha256=5632c9d30e9f6bec345ee2d9b77fea283c27911613fa6c790943e420f0d356c8\n",
            "  Stored in directory: /root/.cache/pip/wheels/e1/26/51/d0bffb3d2fd82256676d7ad3003faea3bd6dddc9577af665f4\n",
            "Successfully built chroma-hnswlib pypika\n",
            "Installing collected packages: tokenizers, pypika, monotonic, websockets, uvloop, requests, python-dotenv, pulsar-client, overrides, humanfriendly, httptools, h11, chroma-hnswlib, backoff, watchfiles, uvicorn, starlette, posthog, coloredlogs, onnxruntime, fastapi, chromadb\n",
            "  Attempting uninstall: requests\n",
            "    Found existing installation: requests 2.27.1\n",
            "    Uninstalling requests-2.27.1:\n",
            "      Successfully uninstalled requests-2.27.1\n",
            "\u001b[31mERROR: pip's dependency resolver does not currently take into account all the packages that are installed. This behaviour is the source of the following dependency conflicts.\n",
            "google-colab 1.0.0 requires requests==2.27.1, but you have requests 2.31.0 which is incompatible.\u001b[0m\u001b[31m\n",
            "\u001b[0mSuccessfully installed backoff-2.2.1 chroma-hnswlib-0.7.1 chromadb-0.4.2 coloredlogs-15.0.1 fastapi-0.99.1 h11-0.14.0 httptools-0.6.0 humanfriendly-10.0 monotonic-1.6 onnxruntime-1.15.1 overrides-7.3.1 posthog-3.0.1 pulsar-client-3.2.0 pypika-0.48.9 python-dotenv-1.0.0 requests-2.31.0 starlette-0.27.0 tokenizers-0.13.3 uvicorn-0.23.1 uvloop-0.17.0 watchfiles-0.19.0 websockets-11.0.3\n",
            "Collecting lark\n",
            "  Downloading lark-1.1.6-py3-none-any.whl (108 kB)\n",
            "\u001b[2K     \u001b[90m━━━━━━━━━━━━━━━━━━━━━━━━━━━━━━━━━━━━━━━\u001b[0m \u001b[32m108.9/108.9 kB\u001b[0m \u001b[31m2.0 MB/s\u001b[0m eta \u001b[36m0:00:00\u001b[0m\n",
            "\u001b[?25hInstalling collected packages: lark\n",
            "Successfully installed lark-1.1.6\n",
            "Collecting pypdf\n",
            "  Downloading pypdf-3.12.2-py3-none-any.whl (254 kB)\n",
            "\u001b[2K     \u001b[90m━━━━━━━━━━━━━━━━━━━━━━━━━━━━━━━━━━━━━━━\u001b[0m \u001b[32m255.0/255.0 kB\u001b[0m \u001b[31m3.3 MB/s\u001b[0m eta \u001b[36m0:00:00\u001b[0m\n",
            "\u001b[?25hInstalling collected packages: pypdf\n",
            "Successfully installed pypdf-3.12.2\n",
            "Collecting langchain\n",
            "  Downloading langchain-0.0.237-py3-none-any.whl (1.3 MB)\n",
            "\u001b[2K     \u001b[90m━━━━━━━━━━━━━━━━━━━━━━━━━━━━━━━━━━━━━━━━\u001b[0m \u001b[32m1.3/1.3 MB\u001b[0m \u001b[31m9.3 MB/s\u001b[0m eta \u001b[36m0:00:00\u001b[0m\n",
            "\u001b[?25hRequirement already satisfied: PyYAML>=5.4.1 in /usr/local/lib/python3.10/dist-packages (from langchain) (6.0)\n",
            "Requirement already satisfied: SQLAlchemy<3,>=1.4 in /usr/local/lib/python3.10/dist-packages (from langchain) (2.0.18)\n",
            "Requirement already satisfied: aiohttp<4.0.0,>=3.8.3 in /usr/local/lib/python3.10/dist-packages (from langchain) (3.8.4)\n",
            "Requirement already satisfied: async-timeout<5.0.0,>=4.0.0 in /usr/local/lib/python3.10/dist-packages (from langchain) (4.0.2)\n",
            "Collecting dataclasses-json<0.6.0,>=0.5.7 (from langchain)\n",
            "  Downloading dataclasses_json-0.5.12-py3-none-any.whl (26 kB)\n",
            "Collecting langsmith<0.0.11,>=0.0.10 (from langchain)\n",
            "  Downloading langsmith-0.0.10-py3-none-any.whl (27 kB)\n",
            "Requirement already satisfied: numexpr<3.0.0,>=2.8.4 in /usr/local/lib/python3.10/dist-packages (from langchain) (2.8.4)\n",
            "Requirement already satisfied: numpy<2,>=1 in /usr/local/lib/python3.10/dist-packages (from langchain) (1.22.4)\n",
            "Collecting openapi-schema-pydantic<2.0,>=1.2 (from langchain)\n",
            "  Downloading openapi_schema_pydantic-1.2.4-py3-none-any.whl (90 kB)\n",
            "\u001b[2K     \u001b[90m━━━━━━━━━━━━━━━━━━━━━━━━━━━━━━━━━━━━━━━━\u001b[0m \u001b[32m90.0/90.0 kB\u001b[0m \u001b[31m13.1 MB/s\u001b[0m eta \u001b[36m0:00:00\u001b[0m\n",
            "\u001b[?25hRequirement already satisfied: pydantic<2,>=1 in /usr/local/lib/python3.10/dist-packages (from langchain) (1.10.11)\n",
            "Requirement already satisfied: requests<3,>=2 in /usr/local/lib/python3.10/dist-packages (from langchain) (2.31.0)\n",
            "Requirement already satisfied: tenacity<9.0.0,>=8.1.0 in /usr/local/lib/python3.10/dist-packages (from langchain) (8.2.2)\n",
            "Requirement already satisfied: attrs>=17.3.0 in /usr/local/lib/python3.10/dist-packages (from aiohttp<4.0.0,>=3.8.3->langchain) (23.1.0)\n",
            "Requirement already satisfied: charset-normalizer<4.0,>=2.0 in /usr/local/lib/python3.10/dist-packages (from aiohttp<4.0.0,>=3.8.3->langchain) (2.0.12)\n",
            "Requirement already satisfied: multidict<7.0,>=4.5 in /usr/local/lib/python3.10/dist-packages (from aiohttp<4.0.0,>=3.8.3->langchain) (6.0.4)\n",
            "Requirement already satisfied: yarl<2.0,>=1.0 in /usr/local/lib/python3.10/dist-packages (from aiohttp<4.0.0,>=3.8.3->langchain) (1.9.2)\n",
            "Requirement already satisfied: frozenlist>=1.1.1 in /usr/local/lib/python3.10/dist-packages (from aiohttp<4.0.0,>=3.8.3->langchain) (1.4.0)\n",
            "Requirement already satisfied: aiosignal>=1.1.2 in /usr/local/lib/python3.10/dist-packages (from aiohttp<4.0.0,>=3.8.3->langchain) (1.3.1)\n",
            "Collecting marshmallow<4.0.0,>=3.18.0 (from dataclasses-json<0.6.0,>=0.5.7->langchain)\n",
            "  Downloading marshmallow-3.19.0-py3-none-any.whl (49 kB)\n",
            "\u001b[2K     \u001b[90m━━━━━━━━━━━━━━━━━━━━━━━━━━━━━━━━━━━━━━━━\u001b[0m \u001b[32m49.1/49.1 kB\u001b[0m \u001b[31m6.6 MB/s\u001b[0m eta \u001b[36m0:00:00\u001b[0m\n",
            "\u001b[?25hCollecting typing-inspect<1,>=0.4.0 (from dataclasses-json<0.6.0,>=0.5.7->langchain)\n",
            "  Downloading typing_inspect-0.9.0-py3-none-any.whl (8.8 kB)\n",
            "Requirement already satisfied: typing-extensions>=4.2.0 in /usr/local/lib/python3.10/dist-packages (from pydantic<2,>=1->langchain) (4.7.1)\n",
            "Requirement already satisfied: idna<4,>=2.5 in /usr/local/lib/python3.10/dist-packages (from requests<3,>=2->langchain) (3.4)\n",
            "Requirement already satisfied: urllib3<3,>=1.21.1 in /usr/local/lib/python3.10/dist-packages (from requests<3,>=2->langchain) (1.26.16)\n",
            "Requirement already satisfied: certifi>=2017.4.17 in /usr/local/lib/python3.10/dist-packages (from requests<3,>=2->langchain) (2023.5.7)\n",
            "Requirement already satisfied: greenlet!=0.4.17 in /usr/local/lib/python3.10/dist-packages (from SQLAlchemy<3,>=1.4->langchain) (2.0.2)\n",
            "Requirement already satisfied: packaging>=17.0 in /usr/local/lib/python3.10/dist-packages (from marshmallow<4.0.0,>=3.18.0->dataclasses-json<0.6.0,>=0.5.7->langchain) (23.1)\n",
            "Collecting mypy-extensions>=0.3.0 (from typing-inspect<1,>=0.4.0->dataclasses-json<0.6.0,>=0.5.7->langchain)\n",
            "  Downloading mypy_extensions-1.0.0-py3-none-any.whl (4.7 kB)\n",
            "Installing collected packages: mypy-extensions, marshmallow, typing-inspect, openapi-schema-pydantic, langsmith, dataclasses-json, langchain\n",
            "Successfully installed dataclasses-json-0.5.12 langchain-0.0.237 langsmith-0.0.10 marshmallow-3.19.0 mypy-extensions-1.0.0 openapi-schema-pydantic-1.2.4 typing-inspect-0.9.0\n",
            "Collecting yt_dlp\n",
            "  Downloading yt_dlp-2023.7.6-py2.py3-none-any.whl (3.0 MB)\n",
            "\u001b[2K     \u001b[90m━━━━━━━━━━━━━━━━━━━━━━━━━━━━━━━━━━━━━━━━\u001b[0m \u001b[32m3.0/3.0 MB\u001b[0m \u001b[31m11.6 MB/s\u001b[0m eta \u001b[36m0:00:00\u001b[0m\n",
            "\u001b[?25hCollecting mutagen (from yt_dlp)\n",
            "  Downloading mutagen-1.46.0-py3-none-any.whl (193 kB)\n",
            "\u001b[2K     \u001b[90m━━━━━━━━━━━━━━━━━━━━━━━━━━━━━━━━━━━━━━\u001b[0m \u001b[32m193.6/193.6 kB\u001b[0m \u001b[31m12.0 MB/s\u001b[0m eta \u001b[36m0:00:00\u001b[0m\n",
            "\u001b[?25hCollecting pycryptodomex (from yt_dlp)\n",
            "  Downloading pycryptodomex-3.18.0-cp35-abi3-manylinux_2_17_x86_64.manylinux2014_x86_64.whl (2.1 MB)\n",
            "\u001b[2K     \u001b[90m━━━━━━━━━━━━━━━━━━━━━━━━━━━━━━━━━━━━━━━━\u001b[0m \u001b[32m2.1/2.1 MB\u001b[0m \u001b[31m24.1 MB/s\u001b[0m eta \u001b[36m0:00:00\u001b[0m\n",
            "\u001b[?25hRequirement already satisfied: websockets in /usr/local/lib/python3.10/dist-packages (from yt_dlp) (11.0.3)\n",
            "Requirement already satisfied: certifi in /usr/local/lib/python3.10/dist-packages (from yt_dlp) (2023.5.7)\n",
            "Collecting brotli (from yt_dlp)\n",
            "  Downloading Brotli-1.0.9-cp310-cp310-manylinux_2_5_x86_64.manylinux1_x86_64.manylinux_2_12_x86_64.manylinux2010_x86_64.whl (2.7 MB)\n",
            "\u001b[2K     \u001b[90m━━━━━━━━━━━━━━━━━━━━━━━━━━━━━━━━━━━━━━━━\u001b[0m \u001b[32m2.7/2.7 MB\u001b[0m \u001b[31m32.1 MB/s\u001b[0m eta \u001b[36m0:00:00\u001b[0m\n",
            "\u001b[?25hInstalling collected packages: brotli, pycryptodomex, mutagen, yt_dlp\n",
            "Successfully installed brotli-1.0.9 mutagen-1.46.0 pycryptodomex-3.18.0 yt_dlp-2023.7.6\n",
            "Collecting pydub\n",
            "  Downloading pydub-0.25.1-py2.py3-none-any.whl (32 kB)\n",
            "Installing collected packages: pydub\n",
            "Successfully installed pydub-0.25.1\n",
            "Collecting tiktoken\n",
            "  Downloading tiktoken-0.4.0-cp310-cp310-manylinux_2_17_x86_64.manylinux2014_x86_64.whl (1.7 MB)\n",
            "\u001b[2K     \u001b[90m━━━━━━━━━━━━━━━━━━━━━━━━━━━━━━━━━━━━━━━━\u001b[0m \u001b[32m1.7/1.7 MB\u001b[0m \u001b[31m11.0 MB/s\u001b[0m eta \u001b[36m0:00:00\u001b[0m\n",
            "\u001b[?25hRequirement already satisfied: regex>=2022.1.18 in /usr/local/lib/python3.10/dist-packages (from tiktoken) (2022.10.31)\n",
            "Requirement already satisfied: requests>=2.26.0 in /usr/local/lib/python3.10/dist-packages (from tiktoken) (2.31.0)\n",
            "Requirement already satisfied: charset-normalizer<4,>=2 in /usr/local/lib/python3.10/dist-packages (from requests>=2.26.0->tiktoken) (2.0.12)\n",
            "Requirement already satisfied: idna<4,>=2.5 in /usr/local/lib/python3.10/dist-packages (from requests>=2.26.0->tiktoken) (3.4)\n",
            "Requirement already satisfied: urllib3<3,>=1.21.1 in /usr/local/lib/python3.10/dist-packages (from requests>=2.26.0->tiktoken) (1.26.16)\n",
            "Requirement already satisfied: certifi>=2017.4.17 in /usr/local/lib/python3.10/dist-packages (from requests>=2.26.0->tiktoken) (2023.5.7)\n",
            "Installing collected packages: tiktoken\n",
            "Successfully installed tiktoken-0.4.0\n"
          ]
        }
      ],
      "source": [
        "!pip install openai\n",
        "!pip install openai\n",
        "! pip install chromadb #restart kernel once after thuis, idk why but it works lol!\n",
        "!pip install lark\n",
        "!pip install pypdf\n",
        "!pip install langchain\n",
        "! pip install yt_dlp\n",
        "!pip install pydub\n",
        "!pip install tiktoken"
      ]
    },
    {
      "cell_type": "code",
      "source": [
        "import os\n",
        "import openai\n",
        "import sys\n",
        "from langchain.document_loaders import PyPDFLoader\n",
        "from langchain.document_loaders import WebBaseLoader"
      ],
      "metadata": {
        "id": "6c-EF7oJbPcO"
      },
      "execution_count": null,
      "outputs": []
    },
    {
      "cell_type": "markdown",
      "source": [
        "# OPEN API KEY"
      ],
      "metadata": {
        "id": "A1U8Ab3ubmMq"
      }
    },
    {
      "cell_type": "code",
      "source": [
        "sys.path.append('../..')\n",
        "\n",
        "from dotenv import load_dotenv, find_dotenv\n",
        "_ = load_dotenv(find_dotenv()) # read local .env file\n",
        "openai.api_key = \" \""
      ],
      "metadata": {
        "id": "LYp8del4bPeX"
      },
      "execution_count": null,
      "outputs": []
    },
    {
      "cell_type": "code",
      "source": [
        "# Set the OpenAI API key as an environment variable with the name 'OPENAI_API_KEY'\n",
        "os.environ['OPENAI_API_KEY'] = \" \"\n",
        "\n",
        "# Access the OpenAI API key using the same name 'OPENAI_API_KEY'\n",
        "openai.api_key = os.environ['OPENAI_API_KEY']"
      ],
      "metadata": {
        "id": "8-G787VzmNRT"
      },
      "execution_count": null,
      "outputs": []
    },
    {
      "cell_type": "markdown",
      "source": [
        "Test the API key:"
      ],
      "metadata": {
        "id": "s-8Jh3VAb1dX"
      }
    },
    {
      "cell_type": "code",
      "source": [
        "response = openai.Completion.create(\n",
        "    engine=\"text-davinci-002\",\n",
        "    prompt=\"Once upon a time...\",\n",
        "    max_tokens=50\n",
        ")\n",
        "\n",
        "print(response['choices'][0]['text'])"
      ],
      "metadata": {
        "colab": {
          "base_uri": "https://localhost:8080/"
        },
        "id": "uIikrZ_2bsET",
        "outputId": "e6cbdd00-468d-4ecd-dae7-793e33e3b931"
      },
      "execution_count": null,
      "outputs": [
        {
          "output_type": "stream",
          "name": "stdout",
          "text": [
            " (or \"These are adventures unlike any told\")\n",
            "\n",
            "\n",
            "Once upon a time, there were many great adventures waiting to be had. But most people never had the opportunity to go on them. That is, until one day, when a man known\n"
          ]
        }
      ]
    },
    {
      "cell_type": "markdown",
      "source": [
        "# Scraping the information"
      ],
      "metadata": {
        "id": "pF1jSIvLcFhG"
      }
    },
    {
      "cell_type": "markdown",
      "source": [
        "## PDF"
      ],
      "metadata": {
        "id": "2fM6i-_xcK64"
      }
    },
    {
      "cell_type": "code",
      "source": [
        "from langchain.document_loaders import PyPDFLoader\n",
        "loader = PyPDFLoader(\"/content/drive/MyDrive/SteveBOi/ProjectHandbook2023.pdf\")\n",
        "pages = loader.load()"
      ],
      "metadata": {
        "id": "yIJE2rVPb5RO"
      },
      "execution_count": null,
      "outputs": []
    },
    {
      "cell_type": "code",
      "source": [
        "len(pages)"
      ],
      "metadata": {
        "colab": {
          "base_uri": "https://localhost:8080/"
        },
        "id": "enj46hEbcdew",
        "outputId": "b9e1aae5-b523-4bd8-e393-bf5aa98df4f0"
      },
      "execution_count": null,
      "outputs": [
        {
          "output_type": "execute_result",
          "data": {
            "text/plain": [
              "17"
            ]
          },
          "metadata": {},
          "execution_count": 6
        }
      ]
    },
    {
      "cell_type": "code",
      "source": [
        "page = pages[0]\n",
        "print(page.page_content[0:500])"
      ],
      "metadata": {
        "colab": {
          "base_uri": "https://localhost:8080/"
        },
        "id": "f_jkqwnfcn9f",
        "outputId": "d4685a04-877b-41f4-9996-133af83f86d0"
      },
      "execution_count": null,
      "outputs": [
        {
          "output_type": "stream",
          "name": "stdout",
          "text": [
            " \n",
            " \n",
            " \n",
            " \n",
            " \n",
            " \n",
            " \n",
            " \n",
            " \n",
            " \n",
            " \n",
            " \n",
            "School of Computer Science and \n",
            "Electronic Engineering \n",
            " \n",
            "MSc Project Handbook for Programmes \n",
            "in Electronic Engineering \n",
            " \n",
            "2022/23 \n",
            " \n",
            " \n",
            " \n",
            "  \n",
            "\n"
          ]
        }
      ]
    },
    {
      "cell_type": "code",
      "source": [
        "page.metadata #gives us the meta data of the page"
      ],
      "metadata": {
        "colab": {
          "base_uri": "https://localhost:8080/"
        },
        "id": "yr2per6VcrAX",
        "outputId": "dae87ee1-0890-41a3-daca-b75afe06f862"
      },
      "execution_count": null,
      "outputs": [
        {
          "output_type": "execute_result",
          "data": {
            "text/plain": [
              "{'source': '/content/drive/MyDrive/SteveBOi/ProjectHandbook2023.pdf',\n",
              " 'page': 0}"
            ]
          },
          "metadata": {},
          "execution_count": 8
        }
      ]
    },
    {
      "cell_type": "markdown",
      "source": [
        "## Website Scraping"
      ],
      "metadata": {
        "id": "rDtmxEPSc1pS"
      }
    },
    {
      "cell_type": "code",
      "source": [
        "from langchain.document_loaders import WebBaseLoader\n",
        "\n",
        "loader = WebBaseLoader(\"https://www.surrey.ac.uk/postgraduate/artificial-intelligence-msc#structure\")"
      ],
      "metadata": {
        "id": "54aDyOyPctne"
      },
      "execution_count": null,
      "outputs": []
    },
    {
      "cell_type": "code",
      "source": [
        "docs = loader.load()\n",
        "print(docs[0].page_content[5000:7000])"
      ],
      "metadata": {
        "colab": {
          "base_uri": "https://localhost:8080/"
        },
        "id": "TA5c0_pjc83R",
        "outputId": "534d60a5-023c-4509-a36f-add17f1aa168"
      },
      "execution_count": null,
      "outputs": [
        {
          "output_type": "stream",
          "name": "stdout",
          "text": [
            "n AI topic that interests you. You’ll be supervised throughout the project by an academic specialising in your chosen subject area.Please be aware: the course content and modules listed for this course are subject to change for the 2023/24 academic year, whilst we undertake a curriculum design review. Please contact the programme leader if you have any queries about the course.Related courses Electronic Engineering MSc  Satellite Communications Engineering MSc  Film, Animation and Digital Arts MA Facilities, equipment and supportSeveral of the modules you’ll study are complemented by software-based laboratory sessions. From these, you’ll complete your coursework. This is an important part of your MSc, enhancing your knowledge in preparation for the written examinations. We’ll provide you with computing support for any specialised software required during the course.The faculty’s student common room is also covered by the University’s open-access wireless network, which makes it a popular location for individual and group work using laptops and mobile devices.Specialist experimental and research facilities (e.g. graphics processing unit clusters) for computationally demanding projects or those requiring specialist equipment are provided by our Centre for Vision, Speech and Signal Processing.ResearchOur School of Computer Science and Electronic Engineering has two pioneering research centres supporting this course and student projects. These are:The Centre for Vision, Speech and Signal Processing (CVSSP), which has more than 30 years of research experience in image processing, deep learning and machine intelligenceThe newly established Surrey Institute for People-Centred AI, which is a pan-university institute that brings together world-leading AI and domain expertise across the University to realise and shape AI impact for public good.Key academicsOur MSc is developed and delivered by academics with unrivalled experience, including:Professor Adrian Hilton: Fellow of \n"
          ]
        }
      ]
    },
    {
      "cell_type": "markdown",
      "source": [
        "## Youtube Scraping"
      ],
      "metadata": {
        "id": "ELBTDEWzdWzi"
      }
    },
    {
      "cell_type": "code",
      "source": [
        "from langchain.document_loaders.generic import GenericLoader\n",
        "from langchain.document_loaders.parsers import OpenAIWhisperParser\n",
        "from langchain.document_loaders.blob_loaders.youtube_audio import YoutubeAudioLoader"
      ],
      "metadata": {
        "id": "OMaAOa_DdNy5"
      },
      "execution_count": null,
      "outputs": []
    },
    {
      "cell_type": "code",
      "source": [
        "url=\"https://www.youtube.com/watch?v=oQwLOfnWOSI\"  #Accommodation Student Tour (Band C - Surrey Court)\n",
        "save_dir=\"/content/youtube/\"\n",
        "loader = GenericLoader(\n",
        "    YoutubeAudioLoader([url],save_dir),\n",
        "    OpenAIWhisperParser()\n",
        ")\n",
        "docs = loader.load()"
      ],
      "metadata": {
        "colab": {
          "base_uri": "https://localhost:8080/"
        },
        "id": "7pGWKVWNd2Pr",
        "outputId": "8aef67be-ee3d-4ee7-8d5c-dca7fc5ba6ed"
      },
      "execution_count": null,
      "outputs": [
        {
          "output_type": "stream",
          "name": "stdout",
          "text": [
            "[youtube] Extracting URL: https://www.youtube.com/watch?v=oQwLOfnWOSI\n",
            "[youtube] oQwLOfnWOSI: Downloading webpage\n",
            "[youtube] oQwLOfnWOSI: Downloading ios player API JSON\n",
            "[youtube] oQwLOfnWOSI: Downloading android player API JSON\n",
            "[youtube] oQwLOfnWOSI: Downloading m3u8 information\n",
            "[youtube] oQwLOfnWOSI: Downloading MPD manifest\n",
            "[info] oQwLOfnWOSI: Downloading 1 format(s): 140\n",
            "[download] Destination: /content/youtube//Accommodation Student Tour (Band C - Surrey Court).m4a\n",
            "[download] 100% of    4.28MiB in 00:00:00 at 4.90MiB/s   \n",
            "[FixupM4a] Correcting container of \"/content/youtube//Accommodation Student Tour (Band C - Surrey Court).m4a\"\n",
            "[ExtractAudio] Not converting audio /content/youtube//Accommodation Student Tour (Band C - Surrey Court).m4a; file is already in target format m4a\n",
            "Transcribing part 1!\n"
          ]
        }
      ]
    },
    {
      "cell_type": "code",
      "source": [
        "docs"
      ],
      "metadata": {
        "colab": {
          "base_uri": "https://localhost:8080/"
        },
        "id": "tiz1hQ2KeCH2",
        "outputId": "62de7807-541a-43a1-fa2e-7b0f586b579d"
      },
      "execution_count": null,
      "outputs": [
        {
          "output_type": "execute_result",
          "data": {
            "text/plain": [
              "[Document(page_content=\"I'm here outside Surrey Court. It's Bansi Accommodation. I'm going to take you on a tour around my flat. So this is my room. I think it's pretty decent actually. It's a good size. You don't really need bigger than this, I don't think. And obviously Bansi is really good value for what you get, I think. So although it's shared bathrooms in Bansi, you do get a sink in your room, which is great. Because it means you can do your hair, makeup, brush your teeth, whatever in your room. And then you only really have to leave to use the toilet or shower, so I think that's really good. So obviously I'm on the ground floor in this room, but it's fine. You get people walking past you and sometimes it can be a bit noisy, but in general it's not too bad. They tend to give you net curtains as well if you're on the ground floor, which is good because it means no one can look in. It's a lot better when you get in the Tesco order or anything because you don't have to run up four flights of stairs. With maintenance issues and things, they tend to be pretty good. You just go and report it online and they come and fix it the next day. And they're not really worried about trying to catch you out and charge you and stuff like that. They just tend to replace it. Like my radiator broke and they come and fix it the next day, no problem. So they're pretty good with stuff like that. You get loads of storage space in your room as well. So you get a chest of drawers, there's a desk, shelves, wardrobe, space above your wardrobe, space below your sink. And under your bed as well. So there's loads of space to put all your stuff. You get a huge notice board, you can customise it, put whatever you want on. Really make your room feel like your own. So in Surrey and Battersea Court we share with 14 people in the flat. Now living with 14 people, it's absolutely fine. People think it's going to be an issue with sharing the kitchen or sharing the bathrooms and stuff. It's just not a problem. Everyone's using them at different times. No one's ever in the kitchen all at the same time or popping freshers week. It's really sociable. There's always someone around and you're pretty much guaranteed to get someone you like living with you as well. And everyone kind of decorates their doors and stuff as well. And sharing the bathrooms isn't really a problem as well because you share bathrooms at home, you share bathrooms here as well. It's just not an issue because everyone gets on, so it's fine. The showers are great as well. They're really powerful, the water pressure is really good. You get heated towel rail and we've brought a couple of bath mats as well, so we share them in the showers as well. There's three showers and three toilets on our floor. Now people think we have to queue or have a rota or something like that, but it's just not the case at all. Everyone gets up at different times, uses the shower at different times, so there's really not an issue. And there's never been a time throughout the whole year where anyone has had to wait to use the toilet or shower. So I really wouldn't worry about that. The shared bathroom is absolutely fine. So this is the kitchen. It's quite big obviously because there's 14 of us, but we're kind of rarely all in here at once cooking and stuff. So you don't really need to worry about 14 people all trying to get on the hobs at once. It just doesn't really work like that. And people kind of stage it, so at different times of the night people will come and do their cooking. So you don't really need to worry, it doesn't get too crowded in here. We also get cleaning as well. So the cleaning's all done for us. They come five times a fortnight and just clean everything. They're really good. So things like the oven gets cleaned out, freezers defrosted, microwave's cleaned, tables wiped down, everything like that. So you don't really have to worry and there's no arguments about who has to do the cleaning, things like that. And likewise the toilets and showers get cleaned for you as well. In terms of cupboard space and stuff, we all get one big cupboard at the bottom. And then everyone gets half of a cupboard at the top as well. So there's plenty of space to put all your stuff. And there's a couple of shared cupboards as well that we can put stuff in. In the fridges and freezers we get one shelf each as well, which again is fine, there's plenty of space. In terms of the appliances in the kitchen, there's a microwave, two kettles, a toaster, two sinks, two sets of hobs and an oven. And then also people tend to bring with them blenders, rice cookers, things like that. And we all just share them now as well. Because like I said, everyone's friendly, everyone gets on. As you can see behind me, the pictures and things like that. We've kind of decorated the kitchen. It's our own really, it's our home and it's really nice. Within Sewing Baths Seacourt as well, in each block there's four floors of 14 flats. So we all know each other within the block as well. And we tend to go to one floor every week for pre-drinks.\", metadata={'source': '/content/youtube/Accommodation Student Tour (Band C - Surrey Court).m4a', 'chunk': 0})]"
            ]
          },
          "metadata": {},
          "execution_count": 13
        }
      ]
    },
    {
      "cell_type": "markdown",
      "source": [
        "# Splitting the Document"
      ],
      "metadata": {
        "id": "GwlK4anpeqis"
      }
    },
    {
      "cell_type": "code",
      "source": [
        "text = \"\"\"So obviously I'm on the ground floor in this room, but it's fine. \\\n",
        "You get people walking past you and sometimes it can be a bit noisy, but in general \\\n",
        " it's not too bad. They tend to give you net curtains as well if you're on the ground floor,  \\n\\n\\\n",
        " which is good because it means no one can look in. It's a lot better when you get in the Tesco \\n\n",
        " order or anything because you don't have to run up four flights of stairs. With maintenance \\\n",
        " issues and things, they tend to be pretty good. You just go and report it online and they come n\\\n",
        " and fix it the next day. And they're not really worried about trying to catch you out and charge \\n\n",
        " you and stuff like that. They just tend to replace it. Like my radiator broke and they come and \\n\n",
        " fix it the next day, no problem. So they're pretty good with stuff like that. You get loads of s\\\\n\n",
        " torage space in your room as well. So you get a chest of drawers, there's a desk, shelves, \\n\\n\n",
        " wardrobe, space above your wardrobe, space below your sink. And under your bed as well. \\\n",
        " So there's loads of space to put all your stuff. You get a huge notice board, you can customise it, \\\n",
        " put whatever you want on. \"\"\""
      ],
      "metadata": {
        "id": "w4LN7wKceTDk"
      },
      "execution_count": null,
      "outputs": []
    },
    {
      "cell_type": "code",
      "source": [
        "from langchain.text_splitter import RecursiveCharacterTextSplitter, CharacterTextSplitter"
      ],
      "metadata": {
        "id": "wYPdGGEXhIZw"
      },
      "execution_count": null,
      "outputs": []
    },
    {
      "cell_type": "code",
      "source": [
        "c_splitter = CharacterTextSplitter(\n",
        "    chunk_size=150,\n",
        "    chunk_overlap=0,\n",
        "    separator = ' '\n",
        ")\n",
        "c_splitter.split_text(text)"
      ],
      "metadata": {
        "colab": {
          "base_uri": "https://localhost:8080/"
        },
        "id": "YOShQvCJg_fj",
        "outputId": "f088546b-01a7-4537-87a8-6cef10ce9fe5"
      },
      "execution_count": null,
      "outputs": [
        {
          "output_type": "execute_result",
          "data": {
            "text/plain": [
              "[\"So obviously I'm on the ground floor in this room, but it's fine. You get people walking past you and sometimes it can be a bit noisy, but in general\",\n",
              " \"it's not too bad. They tend to give you net curtains as well if you're on the ground floor, \\n\\n which is good because it means no one can look in. It's\",\n",
              " \"a lot better when you get in the Tesco \\n\\n order or anything because you don't have to run up four flights of stairs. With maintenance issues and\",\n",
              " \"things, they tend to be pretty good. You just go and report it online and they come n and fix it the next day. And they're not really worried about\",\n",
              " 'trying to catch you out and charge \\n\\n you and stuff like that. They just tend to replace it. Like my radiator broke and they come and \\n\\n fix it the',\n",
              " \"next day, no problem. So they're pretty good with stuff like that. You get loads of s\\\\n\\n torage space in your room as well. So you get a chest of\",\n",
              " \"drawers, there's a desk, shelves, \\n\\n\\n wardrobe, space above your wardrobe, space below your sink. And under your bed as well. So there's loads of\",\n",
              " 'space to put all your stuff. You get a huge notice board, you can customise it, put whatever you want on.']"
            ]
          },
          "metadata": {},
          "execution_count": 16
        }
      ]
    },
    {
      "cell_type": "code",
      "source": [
        "r_splitter = RecursiveCharacterTextSplitter(\n",
        "    chunk_size=150,\n",
        "    chunk_overlap=0,\n",
        "    separators=[\"\\n\\n\", \"\\n\", \"(?<=\\. )\", \" \", \"\"]\n",
        ")\n",
        "r_splitter.split_text(text)"
      ],
      "metadata": {
        "colab": {
          "base_uri": "https://localhost:8080/"
        },
        "id": "l4bZevCUhKM-",
        "outputId": "de068be6-944e-424a-c852-0343b76ab42a"
      },
      "execution_count": null,
      "outputs": [
        {
          "output_type": "execute_result",
          "data": {
            "text/plain": [
              "[\"So obviously I'm on the ground floor in this room, but it's fine.\",\n",
              " \"You get people walking past you and sometimes it can be a bit noisy, but in general  it's not too bad.\",\n",
              " \"They tend to give you net curtains as well if you're on the ground floor,\",\n",
              " \"which is good because it means no one can look in. It's a lot better when you get in the Tesco\",\n",
              " \"order or anything because you don't have to run up four flights of stairs. With maintenance  issues and things, they tend to be pretty good.\",\n",
              " \"You just go and report it online and they come n and fix it the next day. And they're not really worried about trying to catch you out and charge\",\n",
              " 'you and stuff like that. They just tend to replace it. Like my radiator broke and they come and',\n",
              " \"fix it the next day, no problem. So they're pretty good with stuff like that. You get loads of s\\\\n\",\n",
              " \"torage space in your room as well. So you get a chest of drawers, there's a desk, shelves,\",\n",
              " \"wardrobe, space above your wardrobe, space below your sink. And under your bed as well.  So there's loads of space to put all your stuff.\",\n",
              " 'You get a huge notice board, you can customise it,  put whatever you want on.']"
            ]
          },
          "metadata": {},
          "execution_count": 17
        }
      ]
    },
    {
      "cell_type": "markdown",
      "source": [
        "Try to split document now"
      ],
      "metadata": {
        "id": "096FcJKthdUw"
      }
    },
    {
      "cell_type": "code",
      "source": [
        "loader = PyPDFLoader(\"/content/drive/MyDrive/SteveBOi/ProjectHandbook2023.pdf\")\n",
        "pages = loader.load()\n",
        "text_splitter = CharacterTextSplitter(\n",
        "    separator=\"\\n\",\n",
        "    chunk_size=1000,\n",
        "    chunk_overlap=150,\n",
        "    length_function=len\n",
        ")"
      ],
      "metadata": {
        "id": "l5PippdMhP-v"
      },
      "execution_count": null,
      "outputs": []
    },
    {
      "cell_type": "code",
      "source": [
        "docs = text_splitter.split_documents(pages)\n",
        "len(docs)"
      ],
      "metadata": {
        "colab": {
          "base_uri": "https://localhost:8080/"
        },
        "id": "a2O_xdKOhlMI",
        "outputId": "43a16c93-6b22-43e8-c279-9c6aadd5801b"
      },
      "execution_count": null,
      "outputs": [
        {
          "output_type": "execute_result",
          "data": {
            "text/plain": [
              "63"
            ]
          },
          "metadata": {},
          "execution_count": 19
        }
      ]
    },
    {
      "cell_type": "markdown",
      "source": [
        "# VectorDatabase and Embeddings"
      ],
      "metadata": {
        "id": "AgmsUD0QkGii"
      }
    },
    {
      "cell_type": "code",
      "source": [
        "loaders = [\n",
        "    # Duplicate documents on purpose - messy data\n",
        "    PyPDFLoader(\"/content/drive/MyDrive/SteveBOi/ProjectHandbook2023.pdf\"),\n",
        "    PyPDFLoader(\"/content/drive/MyDrive/SteveBOi/disserTemplate.pdf\"),\n",
        "    PyPDFLoader(\"/content/drive/MyDrive/SteveBOi/imterimTempelate.pdf\")\n",
        "]\n",
        "docs = []\n",
        "for loader in loaders:\n",
        "    docs.extend(loader.load())"
      ],
      "metadata": {
        "id": "XNI43C_Ujpdp"
      },
      "execution_count": null,
      "outputs": []
    },
    {
      "cell_type": "code",
      "source": [
        "len(docs)"
      ],
      "metadata": {
        "colab": {
          "base_uri": "https://localhost:8080/"
        },
        "id": "4qX3NjZyklV7",
        "outputId": "de638c39-1043-4665-d719-cd70b80c53c1"
      },
      "execution_count": null,
      "outputs": [
        {
          "output_type": "execute_result",
          "data": {
            "text/plain": [
              "42"
            ]
          },
          "metadata": {},
          "execution_count": 21
        }
      ]
    },
    {
      "cell_type": "code",
      "source": [
        "url=\"https://www.youtube.com/watch?v=oQwLOfnWOSI\"  #Accommodation Student Tour (Band C - Surrey Court)\n",
        "save_dir=\"/content/youtube/\"\n",
        "loader = GenericLoader(\n",
        "    YoutubeAudioLoader([url],save_dir),\n",
        "    OpenAIWhisperParser()\n",
        ")\n",
        "docs.extend(loader.load())"
      ],
      "metadata": {
        "colab": {
          "base_uri": "https://localhost:8080/"
        },
        "id": "5g-vd1SVkbyy",
        "outputId": "fb37147c-5780-431e-c351-bf538f658361"
      },
      "execution_count": null,
      "outputs": [
        {
          "output_type": "stream",
          "name": "stdout",
          "text": [
            "[youtube] Extracting URL: https://www.youtube.com/watch?v=oQwLOfnWOSI\n",
            "[youtube] oQwLOfnWOSI: Downloading webpage\n",
            "[youtube] oQwLOfnWOSI: Downloading ios player API JSON\n",
            "[youtube] oQwLOfnWOSI: Downloading android player API JSON\n",
            "[youtube] oQwLOfnWOSI: Downloading m3u8 information\n",
            "[youtube] oQwLOfnWOSI: Downloading MPD manifest\n",
            "[info] oQwLOfnWOSI: Downloading 1 format(s): 140\n",
            "[download] /content/youtube//Accommodation Student Tour (Band C - Surrey Court).m4a has already been downloaded\n",
            "[download] 100% of    4.28MiB\n",
            "[ExtractAudio] Not converting audio /content/youtube//Accommodation Student Tour (Band C - Surrey Court).m4a; file is already in target format m4a\n",
            "Transcribing part 1!\n"
          ]
        }
      ]
    },
    {
      "cell_type": "code",
      "source": [
        "len(docs)"
      ],
      "metadata": {
        "colab": {
          "base_uri": "https://localhost:8080/"
        },
        "id": "bn6Bgqr5lQiz",
        "outputId": "ad48064c-bbbb-4676-c301-ba53c6b97388"
      },
      "execution_count": null,
      "outputs": [
        {
          "output_type": "execute_result",
          "data": {
            "text/plain": [
              "43"
            ]
          },
          "metadata": {},
          "execution_count": 23
        }
      ]
    },
    {
      "cell_type": "code",
      "source": [
        "docs[42]"
      ],
      "metadata": {
        "colab": {
          "base_uri": "https://localhost:8080/"
        },
        "id": "AlMMsQuZlVaC",
        "outputId": "38e8f37b-1fca-4bb6-914c-44df2c238ee2"
      },
      "execution_count": null,
      "outputs": [
        {
          "output_type": "execute_result",
          "data": {
            "text/plain": [
              "Document(page_content=\"I'm here outside Surrey Court. It's Bansi Accommodation. I'm going to take you on a tour around my flat. So this is my room. I think it's pretty decent actually. It's a good size. You don't really need bigger than this, I don't think. And obviously Bansi is really good value for what you get, I think. So although it's shared bathrooms in Bansi, you do get a sink in your room, which is great. Because it means you can do your hair, makeup, brush your teeth, whatever in your room. And then you only really have to leave to use the toilet or shower, so I think that's really good. So obviously I'm on the ground floor in this room, but it's fine. You get people walking past you and sometimes it can be a bit noisy, but in general it's not too bad. They tend to give you net curtains as well if you're on the ground floor, which is good because it means no one can look in. It's a lot better when you get in the Tesco order or anything because you don't have to run up four flights of stairs. With maintenance issues and things, they tend to be pretty good. You just go and report it online and they come and fix it the next day. And they're not really worried about trying to catch you out and charge you and stuff like that. They just tend to replace it. Like my radiator broke and they come and fix it the next day, no problem. So they're pretty good with stuff like that. You get loads of storage space in your room as well. So you get a chest of drawers, there's a desk, shelves, wardrobe, space above your wardrobe, space below your sink. And under your bed as well. So there's loads of space to put all your stuff. You get a huge notice board, you can customise it, put whatever you want on. Really make your room feel like your own. So in Surrey and Battersea Court we share with 14 people in the flat. Now living with 14 people, it's absolutely fine. People think it's going to be an issue with sharing the kitchen or sharing the bathrooms and stuff. It's just not a problem. Everyone's using them at different times. No one's ever in the kitchen all at the same time or popping freshers week. It's really sociable. There's always someone around and you're pretty much guaranteed to get someone you like living with you as well. And everyone kind of decorates their doors and stuff as well. And sharing the bathrooms isn't really a problem as well because you share bathrooms at home, you share bathrooms here as well. It's just not an issue because everyone gets on, so it's fine. The showers are great as well. They're really powerful, the water pressure is really good. You get heated towel rail and we've brought a couple of bath mats as well, so we share them in the showers as well. There's three showers and three toilets on our floor. Now people think we have to queue or have a rota or something like that, but it's just not the case at all. Everyone gets up at different times, uses the shower at different times, so there's really not an issue. And there's never been a time throughout the whole year where anyone has had to wait to use the toilet or shower. So I really wouldn't worry about that. The shared bathroom is absolutely fine. So this is the kitchen. It's quite big obviously because there's 14 of us, but we're kind of rarely all in here at once cooking and stuff. So you don't really need to worry about 14 people all trying to get on the hobs at once. It just doesn't really work like that. And people kind of stage it, so at different times of the night people will come and do their cooking. So you don't really need to worry, it doesn't get too crowded in here. We also get cleaning as well. So the cleaning's all done for us. They come five times a fortnight and just clean everything. They're really good. So things like the oven gets cleaned out, freezers defrosted, microwave's cleaned, tables wiped down, everything like that. So you don't really have to worry and there's no arguments about who has to do the cleaning, things like that. And likewise the toilets and showers get cleaned for you as well. In terms of cupboard space and stuff, we all get one big cupboard at the bottom. And then everyone gets half of a cupboard at the top as well. So there's plenty of space to put all your stuff. And there's a couple of shared cupboards as well that we can put stuff in. In the fridges and freezers we get one shelf each as well, which again is fine, there's plenty of space. In terms of the appliances in the kitchen, there's a microwave, two kettles, a toaster, two sinks, two sets of hobs and an oven. And then also people tend to bring with them blenders, rice cookers, things like that. And we all just share them now as well. Because like I said, everyone's friendly, everyone gets on. As you can see behind me, the pictures and things like that. We've kind of decorated the kitchen. It's our own really, it's our home and it's really nice. Within Sewing Baths Seacourt as well, in each block there's four floors of 14 flats. So we all know each other within the block as well. And we tend to go to one floor every week for pre-drinks.\", metadata={'source': '/content/youtube/Accommodation Student Tour (Band C - Surrey Court).m4a', 'chunk': 0})"
            ]
          },
          "metadata": {},
          "execution_count": 24
        }
      ]
    },
    {
      "cell_type": "markdown",
      "source": [
        "add url information"
      ],
      "metadata": {
        "id": "3WE51U47lpw7"
      }
    },
    {
      "cell_type": "code",
      "source": [
        "loader = WebBaseLoader(\"https://www.surrey.ac.uk/postgraduate/artificial-intelligence-msc#structure\")\n",
        "docs.extend(loader.load())"
      ],
      "metadata": {
        "id": "buNg8Pfdll4R"
      },
      "execution_count": null,
      "outputs": []
    },
    {
      "cell_type": "code",
      "source": [
        "len(docs)"
      ],
      "metadata": {
        "colab": {
          "base_uri": "https://localhost:8080/"
        },
        "id": "bnDk3MG_lwj6",
        "outputId": "3156de93-4286-4138-b715-14ff2566f2ae"
      },
      "execution_count": null,
      "outputs": [
        {
          "output_type": "execute_result",
          "data": {
            "text/plain": [
              "44"
            ]
          },
          "metadata": {},
          "execution_count": 26
        }
      ]
    },
    {
      "cell_type": "markdown",
      "source": [
        "Split docs"
      ],
      "metadata": {
        "id": "tS5F85frl80S"
      }
    },
    {
      "cell_type": "code",
      "source": [
        "# Split\n",
        "from langchain.text_splitter import RecursiveCharacterTextSplitter\n",
        "text_splitter = RecursiveCharacterTextSplitter(\n",
        "    chunk_size = 1500,\n",
        "    chunk_overlap = 150\n",
        ")"
      ],
      "metadata": {
        "id": "TafKnKN6lzj6"
      },
      "execution_count": null,
      "outputs": []
    },
    {
      "cell_type": "code",
      "source": [
        "splits = text_splitter.split_documents(docs) #gonna use this in the VECTOR DB\n",
        "len(splits)"
      ],
      "metadata": {
        "colab": {
          "base_uri": "https://localhost:8080/"
        },
        "id": "pIPXajVIl_MB",
        "outputId": "086f04c1-e990-4612-a969-15180cb7203f"
      },
      "execution_count": null,
      "outputs": [
        {
          "output_type": "execute_result",
          "data": {
            "text/plain": [
              "123"
            ]
          },
          "metadata": {},
          "execution_count": 28
        }
      ]
    },
    {
      "cell_type": "markdown",
      "source": [
        "## Embeddings and testing"
      ],
      "metadata": {
        "id": "JimUsupBmFJa"
      }
    },
    {
      "cell_type": "code",
      "source": [
        "from langchain.embeddings.openai import OpenAIEmbeddings\n",
        "embedding = OpenAIEmbeddings()"
      ],
      "metadata": {
        "id": "ng6v-F_cmAfj"
      },
      "execution_count": null,
      "outputs": []
    },
    {
      "cell_type": "code",
      "source": [
        "text = \"hello I am MSc in Artificial Intelligence\"\n",
        "embedding1 = embedding.embed_query(text)\n",
        "embedding1"
      ],
      "metadata": {
        "colab": {
          "base_uri": "https://localhost:8080/"
        },
        "id": "luGKm1LamIuR",
        "outputId": "16227523-745d-4991-8316-b9c62b9fbb71"
      },
      "execution_count": null,
      "outputs": [
        {
          "output_type": "execute_result",
          "data": {
            "text/plain": [
              "[-0.014771580696105957,\n",
              " 0.0037879329174757004,\n",
              " -0.007915286347270012,\n",
              " -0.026895681396126747,\n",
              " 0.003906730096787214,\n",
              " 0.02788678929209709,\n",
              " -0.01469011977314949,\n",
              " 0.012477098032832146,\n",
              " -0.01957777515053749,\n",
              " -0.013997701928019524,\n",
              " 0.018491629511117935,\n",
              " 0.016115685924887657,\n",
              " -0.022306716069579124,\n",
              " -0.0017259533051401377,\n",
              " 0.015504729002714157,\n",
              " -0.00913041178137064,\n",
              " 0.007765941321849823,\n",
              " 0.0011311188573017716,\n",
              " 0.0008977672550827265,\n",
              " -0.0016410981770604849,\n",
              " -0.021845104172825813,\n",
              " 0.022333869710564613,\n",
              " 0.007270387373864651,\n",
              " -0.02385447360575199,\n",
              " 0.011553874239325523,\n",
              " -0.015368960797786713,\n",
              " 0.003536761738359928,\n",
              " -0.02305344119668007,\n",
              " -0.012592501007020473,\n",
              " -0.0038592112250626087,\n",
              " -0.008648434653878212,\n",
              " -0.015070270746946335,\n",
              " -0.017907826229929924,\n",
              " -0.03217706456780434,\n",
              " -0.017826365306973457,\n",
              " -0.030303463339805603,\n",
              " 0.006567786913365126,\n",
              " -0.005271200556308031,\n",
              " 0.03424074128270149,\n",
              " 0.008621281012892723,\n",
              " 0.011608181521296501,\n",
              " 0.014405006542801857,\n",
              " 0.009721003472805023,\n",
              " 0.00389315327629447,\n",
              " -0.00790849793702364,\n",
              " 0.015504729002714157,\n",
              " -0.0025473509449511766,\n",
              " -0.02256467565894127,\n",
              " -0.020663920789957047,\n",
              " 0.016224300488829613,\n",
              " 0.005960224196314812,\n",
              " -0.005094701889902353,\n",
              " -0.005899128504097462,\n",
              " -0.017052486538887024,\n",
              " -0.0068664769642055035,\n",
              " 0.01691671833395958,\n",
              " 0.011730372905731201,\n",
              " 0.017907826229929924,\n",
              " -0.010447363369166851,\n",
              " -0.005244046915322542,\n",
              " 0.011886506341397762,\n",
              " -0.0026712394319474697,\n",
              " -0.02891862764954567,\n",
              " 0.015708381310105324,\n",
              " 0.012755422852933407,\n",
              " 0.001951667945832014,\n",
              " -0.01505669392645359,\n",
              " -0.002769671380519867,\n",
              " -0.005899128504097462,\n",
              " 0.020772535353899002,\n",
              " 0.0020636767148971558,\n",
              " -0.004527869634330273,\n",
              " -0.015966340899467468,\n",
              " -0.02791394293308258,\n",
              " 0.03619580343365669,\n",
              " 0.012884402647614479,\n",
              " -0.011132992804050446,\n",
              " 0.009279756806790829,\n",
              " -0.009293333627283573,\n",
              " -0.011031166650354862,\n",
              " 0.02363724447786808,\n",
              " -0.02046026848256588,\n",
              " 0.004514292813837528,\n",
              " 0.013705800287425518,\n",
              " 0.02519857883453369,\n",
              " 0.00837010983377695,\n",
              " 0.020989764481782913,\n",
              " 0.0067748334258794785,\n",
              " -0.01872243545949459,\n",
              " -0.018491629511117935,\n",
              " 0.007562289014458656,\n",
              " 0.008302225731313229,\n",
              " 0.019862888380885124,\n",
              " 0.02131560817360878,\n",
              " -0.021722912788391113,\n",
              " 0.014418583363294601,\n",
              " -0.027384446933865547,\n",
              " 0.015518305823206902,\n",
              " 0.02119341678917408,\n",
              " -0.02656983770430088,\n",
              " -0.010379479266703129,\n",
              " -0.014880195260047913,\n",
              " -0.02375943586230278,\n",
              " -0.003134548431262374,\n",
              " -0.030004773288965225,\n",
              " -0.0016979511128738523,\n",
              " 0.0018464475870132446,\n",
              " 0.007704845629632473,\n",
              " 0.0035401559434831142,\n",
              " 0.014825887978076935,\n",
              " 0.001721710548736155,\n",
              " 0.04241398721933365,\n",
              " -0.005271200556308031,\n",
              " -0.011289126239717007,\n",
              " -0.01767702028155327,\n",
              " -0.0065949405543506145,\n",
              " 0.005933070555329323,\n",
              " -0.004151112865656614,\n",
              " -0.008471935987472534,\n",
              " -0.026026764884591103,\n",
              " 0.00824791844934225,\n",
              " -0.031199533492326736,\n",
              " 0.0025795958936214447,\n",
              " -0.011289126239717007,\n",
              " 0.0067171319387853146,\n",
              " 0.01896681822836399,\n",
              " -0.036141496151685715,\n",
              " -0.011777891777455807,\n",
              " 0.01395697146654129,\n",
              " 0.00705315824598074,\n",
              " 7.26572034182027e-06,\n",
              " -0.006211395375430584,\n",
              " 0.010196192190051079,\n",
              " 0.01740548387169838,\n",
              " -0.036603108048439026,\n",
              " 0.02617610991001129,\n",
              " -0.02742517739534378,\n",
              " -0.017106793820858,\n",
              " -0.02894578129053116,\n",
              " -0.011458836495876312,\n",
              " -0.015681227669119835,\n",
              " 0.03872109204530716,\n",
              " 0.029054395854473114,\n",
              " -0.013692223466932774,\n",
              " -0.010936128906905651,\n",
              " 0.023474322631955147,\n",
              " 0.013685435056686401,\n",
              " -0.009748157113790512,\n",
              " 0.006920784246176481,\n",
              " -0.003473968943580985,\n",
              " 0.014364276081323624,\n",
              " -0.02055530622601509,\n",
              " -0.016197146847844124,\n",
              " 0.00717534963041544,\n",
              " 0.011771103367209435,\n",
              " 0.006506691221147776,\n",
              " 0.007765941321849823,\n",
              " 0.013868722133338451,\n",
              " -0.008913182653486729,\n",
              " -0.03214991092681885,\n",
              " -0.01606137864291668,\n",
              " 0.0030870295595377684,\n",
              " 0.027194371446967125,\n",
              " -0.02131560817360878,\n",
              " 0.004846924915909767,\n",
              " 0.0339692048728466,\n",
              " 0.0016555235488340259,\n",
              " 0.00906931608915329,\n",
              " 5.314052395988256e-05,\n",
              " 0.024967772886157036,\n",
              " 0.006560998503118753,\n",
              " 0.022211678326129913,\n",
              " -0.03950854763388634,\n",
              " 0.004246150609105825,\n",
              " 0.0018634186126291752,\n",
              " 0.013875510543584824,\n",
              " -0.00717534963041544,\n",
              " -0.001509572728537023,\n",
              " -0.0021128926891833544,\n",
              " -0.02495419606566429,\n",
              " -0.024845581501722336,\n",
              " 0.023202786222100258,\n",
              " 0.005532554350793362,\n",
              " 0.0027527003549039364,\n",
              " 0.0013135573826730251,\n",
              " -0.0032380716875195503,\n",
              " -0.0012261566007509828,\n",
              " -0.007840613834559917,\n",
              " 0.006418441887944937,\n",
              " -0.04352728649973869,\n",
              " 0.03141676262021065,\n",
              " 0.018831050023436546,\n",
              " -0.015355383977293968,\n",
              " -0.0017251047538593411,\n",
              " -0.6542941331863403,\n",
              " -0.031932681798934937,\n",
              " 0.035191118717193604,\n",
              " 0.017839942127466202,\n",
              " 0.006798592861741781,\n",
              " 0.022469637915492058,\n",
              " 0.01517888531088829,\n",
              " -0.0027934308163821697,\n",
              " -0.0026339031755924225,\n",
              " 0.05172768607735634,\n",
              " -0.019414853304624557,\n",
              " 0.027221525087952614,\n",
              " -0.01887178048491478,\n",
              " 0.0027034843806177378,\n",
              " 0.005332296248525381,\n",
              " -0.01627860777080059,\n",
              " -0.009931444190442562,\n",
              " -0.01750052161514759,\n",
              " 0.02363724447786808,\n",
              " 0.008560185320675373,\n",
              " -0.058651864528656006,\n",
              " 0.018342284485697746,\n",
              " -0.008166457526385784,\n",
              " 0.017486944794654846,\n",
              " -0.006017925683408976,\n",
              " 0.004266515839844942,\n",
              " 0.013583608902990818,\n",
              " -0.010277653113007545,\n",
              " 0.0005659837042912841,\n",
              " 0.013312072493135929,\n",
              " -0.02735729329288006,\n",
              " 0.003536761738359928,\n",
              " 0.009218661114573479,\n",
              " -0.019537044689059258,\n",
              " 0.04901232197880745,\n",
              " -0.022917672991752625,\n",
              " -0.001403503818437457,\n",
              " 0.010691746138036251,\n",
              " -0.0012371877674013376,\n",
              " 0.01933339238166809,\n",
              " -0.03282875195145607,\n",
              " -0.015844149515032768,\n",
              " -0.006537239067256451,\n",
              " 0.013943394646048546,\n",
              " 0.011560662649571896,\n",
              " 0.014269238337874413,\n",
              " -0.004351370967924595,\n",
              " 0.0013364682672545314,\n",
              " -0.02351505309343338,\n",
              " 0.00925260316580534,\n",
              " -0.008098573423922062,\n",
              " 0.0001274948299396783,\n",
              " -0.005793908145278692,\n",
              " -0.010684957727789879,\n",
              " 0.014052009209990501,\n",
              " -0.006608517374843359,\n",
              " 0.03872109204530716,\n",
              " -0.022727597504854202,\n",
              " 0.02217094786465168,\n",
              " -0.0018226881511509418,\n",
              " -0.0031209716107696295,\n",
              " 0.013658281415700912,\n",
              " -0.015952764078974724,\n",
              " -0.019197624176740646,\n",
              " -0.02342001534998417,\n",
              " -0.0034824544563889503,\n",
              " -0.00849230121821165,\n",
              " -0.01669948920607567,\n",
              " 0.006282673683017492,\n",
              " 0.000493432569783181,\n",
              " 0.001980518689379096,\n",
              " -0.006679795682430267,\n",
              " -0.006618699990212917,\n",
              " -0.007759152911603451,\n",
              " -0.00876383762806654,\n",
              " 0.014975233003497124,\n",
              " -0.010752841830253601,\n",
              " -0.038802552968263626,\n",
              " 0.001220216741785407,\n",
              " 0.020297346636652946,\n",
              " 0.005454487632960081,\n",
              " 0.010915763676166534,\n",
              " 0.009381582960486412,\n",
              " -0.00156897131819278,\n",
              " 0.013033747673034668,\n",
              " -0.03386059030890465,\n",
              " -0.0018719041254371405,\n",
              " -0.0008056994411163032,\n",
              " 0.0055597079917788506,\n",
              " 0.005797302350401878,\n",
              " 0.013644704595208168,\n",
              " 0.03426789492368698,\n",
              " -0.008865663781762123,\n",
              " -0.02058245986700058,\n",
              " 0.013155939057469368,\n",
              " 0.00711425393819809,\n",
              " -0.022130217403173447,\n",
              " 0.0022130217403173447,\n",
              " 0.0025982640217989683,\n",
              " -0.016848834231495857,\n",
              " 0.018002863973379135,\n",
              " -0.006863082759082317,\n",
              " 0.018736012279987335,\n",
              " 0.007854190655052662,\n",
              " 0.040268849581480026,\n",
              " 0.006421836093068123,\n",
              " -0.037879329174757004,\n",
              " 0.005491823889315128,\n",
              " 0.0016377039719372988,\n",
              " -0.0072635989636182785,\n",
              " 0.012225926853716373,\n",
              " 0.020297346636652946,\n",
              " -0.006577969528734684,\n",
              " -0.014662966132164001,\n",
              " 0.007860979065299034,\n",
              " -0.029841851443052292,\n",
              " 0.01718825474381447,\n",
              " 0.01383478008210659,\n",
              " 0.0067748334258794785,\n",
              " -0.04086622968316078,\n",
              " 0.011716796085238457,\n",
              " -0.0018328707665205002,\n",
              " 0.026746336370706558,\n",
              " -0.012836883775889874,\n",
              " 0.010175826959311962,\n",
              " 0.03595142066478729,\n",
              " -0.010223345831036568,\n",
              " -0.011112627573311329,\n",
              " -0.013508936390280724,\n",
              " 0.013305284082889557,\n",
              " 0.009368006139993668,\n",
              " -0.04893086105585098,\n",
              " 0.011078685522079468,\n",
              " -0.023406438529491425,\n",
              " 0.02791394293308258,\n",
              " -0.008424417115747929,\n",
              " 0.029787544161081314,\n",
              " 0.017717750743031502,\n",
              " 0.006771439220756292,\n",
              " 0.007759152911603451,\n",
              " -0.011947602033615112,\n",
              " 0.004286881070584059,\n",
              " -0.020161578431725502,\n",
              " 0.002496437868103385,\n",
              " -0.005434122402220964,\n",
              " -0.029325932264328003,\n",
              " -0.012687538750469685,\n",
              " 0.01047451701015234,\n",
              " 0.019156893715262413,\n",
              " -0.007032793015241623,\n",
              " -0.004901232197880745,\n",
              " -0.005203316453844309,\n",
              " 0.008268283680081367,\n",
              " 0.030086234211921692,\n",
              " 0.0017480156384408474,\n",
              " -0.02703144960105419,\n",
              " 0.0010742659214884043,\n",
              " -0.009877136908471584,\n",
              " -0.00030229639378376305,\n",
              " -0.017541252076625824,\n",
              " -0.003316138405352831,\n",
              " 0.020256616175174713,\n",
              " -0.009198295883834362,\n",
              " -0.0016699489206075668,\n",
              " 0.0032058267388492823,\n",
              " -0.014540774747729301,\n",
              " -0.021261300891637802,\n",
              " 0.04654134064912796,\n",
              " -0.02561946026980877,\n",
              " -0.023596514016389847,\n",
              " 0.015803419053554535,\n",
              " -0.005118461325764656,\n",
              " 0.0016920112539082766,\n",
              " -0.004324217326939106,\n",
              " -0.0025168030988425016,\n",
              " -0.022971980273723602,\n",
              " 0.0023555783554911613,\n",
              " -0.005121855530887842,\n",
              " -0.015029540285468102,\n",
              " -0.008682376705110073,\n",
              " 0.00444301450625062,\n",
              " 0.017215408384799957,\n",
              " -0.007996747270226479,\n",
              " 0.008879240602254868,\n",
              " 0.029325932264328003,\n",
              " 0.01261286623775959,\n",
              " -0.007250022143125534,\n",
              " 0.021356338635087013,\n",
              " -0.027316562831401825,\n",
              " 0.01447289064526558,\n",
              " 0.015463998541235924,\n",
              " 0.01975427381694317,\n",
              " -0.043744515627622604,\n",
              " 0.023935934528708458,\n",
              " 0.015776265412569046,\n",
              " 0.01218519639223814,\n",
              " 0.0037947213277220726,\n",
              " -0.005064154043793678,\n",
              " 0.0013135573826730251,\n",
              " 0.014174200594425201,\n",
              " 0.021750066429376602,\n",
              " 0.010298018343746662,\n",
              " 0.03130814805626869,\n",
              " -0.015504729002714157,\n",
              " 0.013257765211164951,\n",
              " -0.04344582557678223,\n",
              " 0.010617073625326157,\n",
              " -0.00980246439576149,\n",
              " 0.029054395854473114,\n",
              " 0.020894726738333702,\n",
              " -0.001434051664546132,\n",
              " -0.00377096189185977,\n",
              " 0.008845298551023006,\n",
              " -0.0025778987910598516,\n",
              " 0.020080117508769035,\n",
              " 0.0161292627453804,\n",
              " -0.022768327966332436,\n",
              " 0.0024557074066251516,\n",
              " -0.01606137864291668,\n",
              " 0.007623384706676006,\n",
              " 0.007256810553371906,\n",
              " 0.001860024407505989,\n",
              " -0.009931444190442562,\n",
              " -0.001795534510165453,\n",
              " -0.0010445666266605258,\n",
              " 0.05161907151341438,\n",
              " 0.011275549419224262,\n",
              " 0.022089486941695213,\n",
              " -0.004263121634721756,\n",
              " -0.0036351936869323254,\n",
              " -0.010426998138427734,\n",
              " 0.011411317624151707,\n",
              " 0.004823165480047464,\n",
              " 0.007440097630023956,\n",
              " 0.017758481204509735,\n",
              " 0.0008349744603037834,\n",
              " 0.0013916241005063057,\n",
              " -0.009856771677732468,\n",
              " 0.047871869057416916,\n",
              " -0.012463521212339401,\n",
              " -0.014296391978859901,\n",
              " 0.007032793015241623,\n",
              " 0.021179839968681335,\n",
              " -0.02586384303867817,\n",
              " 0.013522513210773468,\n",
              " -0.009449467062950134,\n",
              " 0.004541446454823017,\n",
              " -0.014092739671468735,\n",
              " -0.007487616501748562,\n",
              " 0.020989764481782913,\n",
              " -0.020256616175174713,\n",
              " 0.014255661517381668,\n",
              " -0.0030293280724436045,\n",
              " -0.03475666046142578,\n",
              " 0.024940619245171547,\n",
              " -0.01640079915523529,\n",
              " -0.004819771274924278,\n",
              " 0.01505669392645359,\n",
              " 0.013481782749295235,\n",
              " 0.026271147653460503,\n",
              " -0.015463998541235924,\n",
              " 0.017296869307756424,\n",
              " -0.0054986122995615005,\n",
              " -0.012599289417266846,\n",
              " -0.003346686251461506,\n",
              " 0.007243233732879162,\n",
              " 0.00313794263638556,\n",
              " 0.0015536973951384425,\n",
              " -0.019129740074276924,\n",
              " -0.029733236879110336,\n",
              " 0.007148195989429951,\n",
              " 0.003835451789200306,\n",
              " 0.015029540285468102,\n",
              " -0.002012763638049364,\n",
              " 0.02079968899488449,\n",
              " -0.011784680187702179,\n",
              " 0.025022080168128014,\n",
              " -0.004935174249112606,\n",
              " -0.0007628476014360785,\n",
              " -0.007772729732096195,\n",
              " -0.009524139575660229,\n",
              " -0.03253006190061569,\n",
              " 0.01218519639223814,\n",
              " 0.010949705727398396,\n",
              " -0.022184524685144424,\n",
              " -0.011662488803267479,\n",
              " -0.03725479543209076,\n",
              " 0.0006627185503020883,\n",
              " -0.02122057043015957,\n",
              " -0.011777891777455807,\n",
              " -0.003438329789787531,\n",
              " 0.003920306917279959,\n",
              " 0.0022995739709585905,\n",
              " -0.01987646520137787,\n",
              " -0.02464192919433117,\n",
              " -0.0048571075312793255,\n",
              " 0.025089964270591736,\n",
              " 0.004056075122207403,\n",
              " 0.006384499836713076,\n",
              " 0.005159191787242889,\n",
              " 0.014513621106743813,\n",
              " 0.011309491470456123,\n",
              " -0.03505535051226616,\n",
              " -0.011737161315977573,\n",
              " -0.007765941321849823,\n",
              " -0.020528152585029602,\n",
              " -0.04284844547510147,\n",
              " -0.007290752604603767,\n",
              " -0.011166934855282307,\n",
              " -0.011852564290165901,\n",
              " 0.011553874239325523,\n",
              " 0.008376898244023323,\n",
              " -0.015341807156801224,\n",
              " -0.012409213930368423,\n",
              " -0.007983170449733734,\n",
              " 0.018817473202943802,\n",
              " -0.006452383939176798,\n",
              " -0.01557261310517788,\n",
              " 0.031986989080905914,\n",
              " -0.0026933017652481794,\n",
              " -0.014880195260047913,\n",
              " -0.005050577223300934,\n",
              " -0.02012084797024727,\n",
              " 0.00295465555973351,\n",
              " 0.07673618942499161,\n",
              " 0.0053458730690181255,\n",
              " -0.012802941724658012,\n",
              " -0.015518305823206902,\n",
              " 0.0017870489973574877,\n",
              " 0.002864709123969078,\n",
              " -0.003964431583881378,\n",
              " -0.02635260857641697,\n",
              " -0.011594604700803757,\n",
              " -0.010175826959311962,\n",
              " -0.0012567044468596578,\n",
              " 0.007270387373864651,\n",
              " 0.0005036151851527393,\n",
              " 0.01642795279622078,\n",
              " -0.0001612247433513403,\n",
              " 0.017663443461060524,\n",
              " 0.005702264606952667,\n",
              " 0.002065373817458749,\n",
              " 0.0047043683007359505,\n",
              " 0.018573090434074402,\n",
              " 0.027438754215836525,\n",
              " -0.01669948920607567,\n",
              " 0.004762069787830114,\n",
              " 0.00425972742959857,\n",
              " 0.019808581098914146,\n",
              " 0.023257093504071236,\n",
              " 0.0029733236879110336,\n",
              " -0.010623862035572529,\n",
              " -0.02336570806801319,\n",
              " -0.02158714458346367,\n",
              " -0.011316279880702496,\n",
              " 0.011058320291340351,\n",
              " 0.02012084797024727,\n",
              " -0.015287499874830246,\n",
              " -0.003567309584468603,\n",
              " 0.04083907604217529,\n",
              " -0.015749111771583557,\n",
              " 0.005294959992170334,\n",
              " -0.0008625523769296706,\n",
              " -0.01422850787639618,\n",
              " 0.018668128177523613,\n",
              " 0.017663443461060524,\n",
              " 0.0031854615081101656,\n",
              " -0.018070748075842857,\n",
              " 0.019767850637435913,\n",
              " -0.02094903402030468,\n",
              " 0.00013269220653455704,\n",
              " 0.026148956269025803,\n",
              " -0.020256616175174713,\n",
              " -0.023352131247520447,\n",
              " 0.04214245080947876,\n",
              " 0.02006654068827629,\n",
              " -0.015002386644482613,\n",
              " 0.016590874642133713,\n",
              " -0.0007306026527658105,\n",
              " -0.002163805766031146,\n",
              " 0.0025660190731287003,\n",
              " 0.006679795682430267,\n",
              " -0.010603496804833412,\n",
              " -0.005695476196706295,\n",
              " -0.024411123245954514,\n",
              " -0.036358725279569626,\n",
              " -0.0019669418688863516,\n",
              " 0.004714550916105509,\n",
              " -0.03141676262021065,\n",
              " -0.0010971768060699105,\n",
              " -0.02082684263586998,\n",
              " -0.028484169393777847,\n",
              " -0.016998179256916046,\n",
              " 0.02747948467731476,\n",
              " -0.018179362639784813,\n",
              " -0.019808581098914146,\n",
              " -0.024316085502505302,\n",
              " -0.010813937522470951,\n",
              " -0.0022707232274115086,\n",
              " -0.006435412913560867,\n",
              " 0.01872243545949459,\n",
              " -0.004412466660141945,\n",
              " 0.004222391173243523,\n",
              " 0.034186434000730515,\n",
              " -0.012680750340223312,\n",
              " -0.03820517286658287,\n",
              " 0.015097424387931824,\n",
              " -0.0061978185549378395,\n",
              " -0.01395697146654129,\n",
              " 0.017704173922538757,\n",
              " 0.012653596699237823,\n",
              " 0.0014527197927236557,\n",
              " -0.013006594032049179,\n",
              " 0.009965386241674423,\n",
              " 0.012449944391846657,\n",
              " 0.0030598759185522795,\n",
              " 0.0019907013047486544,\n",
              " -0.011648911982774734,\n",
              " 0.009089681319892406,\n",
              " 0.004103593993932009,\n",
              " 0.0031447310466319323,\n",
              " -0.005512189120054245,\n",
              " 0.0056479573249816895,\n",
              " 0.002593172714114189,\n",
              " -0.02143779955804348,\n",
              " -0.03649449348449707,\n",
              " -0.023691551759839058,\n",
              " -0.022252408787608147,\n",
              " 0.021016918122768402,\n",
              " 0.027289409190416336,\n",
              " 0.02287694253027439,\n",
              " 0.04309282824397087,\n",
              " -0.01872243545949459,\n",
              " -0.0006245337426662445,\n",
              " 0.031959835439920425,\n",
              " -0.004018738865852356,\n",
              " 0.03364336118102074,\n",
              " -0.007392578758299351,\n",
              " 0.014825887978076935,\n",
              " 0.02513069473206997,\n",
              " 0.02180437371134758,\n",
              " 0.04331005737185478,\n",
              " -0.00735863670706749,\n",
              " -0.032204218208789825,\n",
              " 0.009429101832211018,\n",
              " -0.034919582307338715,\n",
              " 0.024234624579548836,\n",
              " 0.026461223140358925,\n",
              " -0.013868722133338451,\n",
              " 0.024234624579548836,\n",
              " 0.012802941724658012,\n",
              " -0.018573090434074402,\n",
              " -0.024302508682012558,\n",
              " -0.03141676262021065,\n",
              " -0.007351848296821117,\n",
              " 0.015138154849410057,\n",
              " -0.019346969202160835,\n",
              " -0.03578849881887436,\n",
              " -0.01914331689476967,\n",
              " -0.010752841830253601,\n",
              " -0.033426132053136826,\n",
              " 0.025728074833750725,\n",
              " -0.0015138154849410057,\n",
              " 0.0022741174325346947,\n",
              " -0.036114342510700226,\n",
              " -0.024383969604969025,\n",
              " -0.006615305785089731,\n",
              " -0.005125249736011028,\n",
              " 0.0013593791518360376,\n",
              " -0.030330616980791092,\n",
              " -0.01591203361749649,\n",
              " -0.007976382039487362,\n",
              " 0.01655014418065548,\n",
              " 0.02654268406331539,\n",
              " -0.003255042713135481,\n",
              " 0.016604451462626457,\n",
              " -0.014459313824772835,\n",
              " -0.02796825021505356,\n",
              " -0.001631764112971723,\n",
              " -0.026488376781344414,\n",
              " -0.001231247908435762,\n",
              " -0.001175243523903191,\n",
              " 0.0172289852052927,\n",
              " 0.025266462936997414,\n",
              " 0.041490763425827026,\n",
              " -0.012422790750861168,\n",
              " 0.02268686704337597,\n",
              " 0.001110753626562655,\n",
              " 0.013291707262396812,\n",
              " -0.01896681822836399,\n",
              " 0.01621072366833687,\n",
              " 0.003104000585153699,\n",
              " -0.020229462534189224,\n",
              " 0.02036523073911667,\n",
              " 0.01669948920607567,\n",
              " -0.0016903141513466835,\n",
              " 0.025388654321432114,\n",
              " -0.004351370967924595,\n",
              " -0.01718825474381447,\n",
              " 0.01853235997259617,\n",
              " 0.007616596296429634,\n",
              " 0.007745576091110706,\n",
              " -0.015803419053554535,\n",
              " -0.03212275728583336,\n",
              " -0.01960492879152298,\n",
              " -0.0007021761848591268,\n",
              " -0.008621281012892723,\n",
              " -0.015029540285468102,\n",
              " -0.011506355367600918,\n",
              " -0.0009588629473000765,\n",
              " 0.034213587641716,\n",
              " 0.012809730134904385,\n",
              " 0.02617610991001129,\n",
              " 0.02060961350798607,\n",
              " 0.02207591012120247,\n",
              " -0.026882104575634003,\n",
              " -0.014160623773932457,\n",
              " -0.0039135185070335865,\n",
              " 0.012599289417266846,\n",
              " -0.008879240602254868,\n",
              " -0.0009775310754776,\n",
              " -0.021980872377753258,\n",
              " 0.00778630655258894,\n",
              " 0.00022529036505147815,\n",
              " 0.023800166323781013,\n",
              " 0.02986900508403778,\n",
              " 0.013610762543976307,\n",
              " 0.013481782749295235,\n",
              " 0.0020500998944044113,\n",
              " -0.0014535683440044522,\n",
              " -0.011533509008586407,\n",
              " -0.0043106405064463615,\n",
              " 0.004385313019156456,\n",
              " -0.027072180062532425,\n",
              " -0.007813460193574429,\n",
              " -0.0037641734816133976,\n",
              " -0.024071702733635902,\n",
              " -0.03912839666008949,\n",
              " 0.008926759473979473,\n",
              " 0.0015087241772562265,\n",
              " -0.015518305823206902,\n",
              " 0.025334347039461136,\n",
              " -0.006537239067256451,\n",
              " -0.0016402496257796884,\n",
              " 0.012999805621802807,\n",
              " 0.01077999547123909,\n",
              " 0.03301882743835449,\n",
              " -0.0009003129089251161,\n",
              " 0.005474852863699198,\n",
              " 0.005824455991387367,\n",
              " 0.007188926450908184,\n",
              " -0.007412943989038467,\n",
              " 0.03652164712548256,\n",
              " 0.004816377069801092,\n",
              " -0.008566973730921745,\n",
              " 0.018342284485697746,\n",
              " 0.030222002416849136,\n",
              " -0.012538193725049496,\n",
              " -0.01887178048491478,\n",
              " 0.006024714093655348,\n",
              " 0.01505669392645359,\n",
              " -0.001858327304944396,\n",
              " -0.01517888531088829,\n",
              " -0.002644085790961981,\n",
              " 0.021016918122768402,\n",
              " 0.0001440415799152106,\n",
              " -0.02204875648021698,\n",
              " 0.0071414075791835785,\n",
              " -0.03720048815011978,\n",
              " 0.01896681822836399,\n",
              " 0.0008421871461905539,\n",
              " -0.005104884505271912,\n",
              " -0.009089681319892406,\n",
              " -0.004483744967728853,\n",
              " -0.00462630158290267,\n",
              " 0.014758003875613213,\n",
              " -0.010834302753210068,\n",
              " 0.018057171255350113,\n",
              " -0.0011132992804050446,\n",
              " 0.027099333703517914,\n",
              " -0.015138154849410057,\n",
              " 0.007582654245197773,\n",
              " -0.014459313824772835,\n",
              " 0.014676542952656746,\n",
              " -0.0019262114074081182,\n",
              " 0.014622235670685768,\n",
              " -0.014174200594425201,\n",
              " -0.008010324090719223,\n",
              " 0.022035179659724236,\n",
              " 0.004195237532258034,\n",
              " -0.022618982940912247,\n",
              " -0.0077795181423425674,\n",
              " -0.008566973730921745,\n",
              " 0.029027242213487625,\n",
              " -0.017948556691408157,\n",
              " -0.0030615730211138725,\n",
              " -0.007650538347661495,\n",
              " 0.013502147980034351,\n",
              " 0.018885357305407524,\n",
              " 0.00421560276299715,\n",
              " 0.013060901314020157,\n",
              " -0.016658758744597435,\n",
              " -0.03361620754003525,\n",
              " -0.004755281377583742,\n",
              " 0.03138960897922516,\n",
              " 0.007915286347270012,\n",
              " -0.002134955022484064,\n",
              " -0.003686106763780117,\n",
              " -0.007677691988646984,\n",
              " -0.022714020684361458,\n",
              " -0.00861449260264635,\n",
              " 0.0037234430201351643,\n",
              " 0.00627588527277112,\n",
              " -0.03584280610084534,\n",
              " -0.007575865834951401,\n",
              " -0.010562766343355179,\n",
              " 0.004059469327330589,\n",
              " 0.007745576091110706,\n",
              " 0.00754192378371954,\n",
              " -0.004605936352163553,\n",
              " 0.016074955463409424,\n",
              " 0.028511323034763336,\n",
              " 0.010393056087195873,\n",
              " -0.008193611167371273,\n",
              " -0.00010872063285205513,\n",
              " -0.008342956192791462,\n",
              " -0.007915286347270012,\n",
              " 0.017473367974162102,\n",
              " 0.006408259272575378,\n",
              " -0.03888401389122009,\n",
              " 0.003740414045751095,\n",
              " -0.019862888380885124,\n",
              " -0.021084802225232124,\n",
              " -0.007657326757907867,\n",
              " 0.00383205758407712,\n",
              " 0.019686389714479446,\n",
              " -0.0064116534776985645,\n",
              " -0.008288648910820484,\n",
              " 0.018803896382451057,\n",
              " 0.01371258869767189,\n",
              " 0.019672812893986702,\n",
              " -0.015138154849410057,\n",
              " -0.0166180282831192,\n",
              " 0.015355383977293968,\n",
              " -0.01459508202970028,\n",
              " -0.016237877309322357,\n",
              " 0.002314847894012928,\n",
              " -0.022130217403173447,\n",
              " 0.011967967264354229,\n",
              " -0.015015963464975357,\n",
              " -0.0010343840112909675,\n",
              " 0.0008807962294667959,\n",
              " -0.04830632731318474,\n",
              " -0.00615369388833642,\n",
              " -0.0006508388323709369,\n",
              " -0.006051867734640837,\n",
              " -0.008227553218603134,\n",
              " -0.02217094786465168,\n",
              " 0.005766754504293203,\n",
              " -0.017758481204509735,\n",
              " -0.004049286711961031,\n",
              " 0.011228030547499657,\n",
              " -0.005155797582119703,\n",
              " -0.023501476272940636,\n",
              " 0.005203316453844309,\n",
              " -0.010827514342963696,\n",
              " -0.012117312289774418,\n",
              " 0.004680608864873648,\n",
              " -0.021179839968681335,\n",
              " 0.011832199059426785,\n",
              " -0.03448512405157089,\n",
              " 0.01386193372309208,\n",
              " -0.02735729329288006,\n",
              " 0.01545042172074318,\n",
              " -0.016265030950307846,\n",
              " 0.028755705803632736,\n",
              " 0.01359039731323719,\n",
              " -0.01398412510752678,\n",
              " -0.012287022545933723,\n",
              " -0.011723584495484829,\n",
              " -0.03942708671092987,\n",
              " -0.01398412510752678,\n",
              " -0.015898456797003746,\n",
              " 0.031036611646413803,\n",
              " 0.006208001170307398,\n",
              " 0.018545936793088913,\n",
              " -0.002440433483570814,\n",
              " 0.012388848699629307,\n",
              " 0.01664518192410469,\n",
              " 0.004123959224671125,\n",
              " -0.022333869710564613,\n",
              " 0.01921120099723339,\n",
              " 0.016020648181438446,\n",
              " -0.007698057219386101,\n",
              " 0.015925610437989235,\n",
              " -0.006129934452474117,\n",
              " -0.03380628302693367,\n",
              " -0.008811356499791145,\n",
              " 0.03676602989435196,\n",
              " 0.008465147577226162,\n",
              " -0.011906871572136879,\n",
              " 0.0006419290439225733,\n",
              " 0.0077184224501252174,\n",
              " -0.01187971793115139,\n",
              " -0.009843194857239723,\n",
              " -0.01725613884627819,\n",
              " 0.011438471265137196,\n",
              " -0.009415525011718273,\n",
              " 0.02253752201795578,\n",
              " -0.023080594837665558,\n",
              " -0.020080117508769035,\n",
              " 0.0024845581501722336,\n",
              " -0.009754945524036884,\n",
              " -0.008892817422747612,\n",
              " -0.00741973239928484,\n",
              " 0.01706606335937977,\n",
              " -0.016224300488829613,\n",
              " -0.004952145274728537,\n",
              " -0.0024506160989403725,\n",
              " 0.0033653543796390295,\n",
              " 0.0022707232274115086,\n",
              " 0.020202308893203735,\n",
              " 0.04016023501753807,\n",
              " -0.00566492835059762,\n",
              " 0.016292184591293335,\n",
              " 0.012314176186919212,\n",
              " 0.006313221529126167,\n",
              " 0.004303852096199989,\n",
              " -0.008044266141951084,\n",
              " 0.019862888380885124,\n",
              " 0.006493114400655031,\n",
              " 0.00019824279297608882,\n",
              " 0.016468683257699013,\n",
              " -0.010542401112616062,\n",
              " -0.003923701122403145,\n",
              " -0.017934979870915413,\n",
              " -0.01071889977902174,\n",
              " -0.015097424387931824,\n",
              " -0.014527197927236557,\n",
              " -0.034213587641716,\n",
              " -0.006737497169524431,\n",
              " -0.027832482010126114,\n",
              " -0.007827037014067173,\n",
              " 0.03326321020722389,\n",
              " -0.000289355986751616,\n",
              " -0.019129740074276924,\n",
              " -0.004453197121620178,\n",
              " -0.0018803896382451057,\n",
              " -0.005291565787047148,\n",
              " -0.008288648910820484,\n",
              " -0.013610762543976307,\n",
              " -0.02021588571369648,\n",
              " -0.0015859423438087106,\n",
              " 0.03204129636287689,\n",
              " -0.009368006139993668,\n",
              " -0.003170187585055828,\n",
              " 0.00961917731910944,\n",
              " 0.010270864702761173,\n",
              " 0.0031175774056464434,\n",
              " 0.0320141427218914,\n",
              " 0.22591829299926758,\n",
              " -0.011913659982383251,\n",
              " 0.005393391940742731,\n",
              " 0.030086234211921692,\n",
              " 0.0344579704105854,\n",
              " 0.011798257008194923,\n",
              " 0.014825887978076935,\n",
              " 0.00943589024245739,\n",
              " -0.00283246417529881,\n",
              " 0.023691551759839058,\n",
              " 0.0039440663531422615,\n",
              " -0.0021485318429768085,\n",
              " -0.004738310351967812,\n",
              " -0.00839726347476244,\n",
              " -0.01645510643720627,\n",
              " 0.005108278710395098,\n",
              " -0.011472413316369057,\n",
              " -0.042766984552145004,\n",
              " -0.01361755095422268,\n",
              " -0.012986228801310062,\n",
              " 0.004018738865852356,\n",
              " -0.005077730864286423,\n",
              " -0.022849788889288902,\n",
              " -0.008899605832993984,\n",
              " 0.005817667581140995,\n",
              " 0.012456732802093029,\n",
              " -0.025062810629606247,\n",
              " -0.014730850234627724,\n",
              " 0.02219810150563717,\n",
              " -0.003265225328505039,\n",
              " -0.005888945888727903,\n",
              " -0.00401534466072917,\n",
              " -0.0004773100954480469,\n",
              " 0.0025965669192373753,\n",
              " 0.006476143375039101,\n",
              " 0.0081868227571249,\n",
              " 0.039834391325712204,\n",
              " -0.019537044689059258,\n",
              " 0.028484169393777847,\n",
              " -1.8668128177523613e-05,\n",
              " 0.0034569979179650545,\n",
              " 0.013026959262788296,\n",
              " -0.006849505938589573,\n",
              " -0.029054395854473114,\n",
              " -0.009143988601863384,\n",
              " 0.008485512807965279,\n",
              " ...]"
            ]
          },
          "metadata": {},
          "execution_count": 30
        }
      ]
    },
    {
      "cell_type": "markdown",
      "source": [
        "## VECTOR DATABASE (CHROMA DB)\n",
        "\n",
        "\n",
        "\n"
      ],
      "metadata": {
        "id": "4MfH5gMUmkqS"
      }
    },
    {
      "cell_type": "code",
      "source": [
        "from langchain.vectorstores import Chroma\n",
        "persist_directory = '/content/chroma/'\n",
        "!rm -rf ./content/chroma  # remove old database files if any\n",
        "vectordb = Chroma.from_documents(\n",
        "    documents=splits,\n",
        "    embedding=embedding,\n",
        "    persist_directory=persist_directory\n",
        ")"
      ],
      "metadata": {
        "id": "SVhuJSFNmhk5"
      },
      "execution_count": null,
      "outputs": []
    },
    {
      "cell_type": "code",
      "source": [
        "print(vectordb._collection.count())"
      ],
      "metadata": {
        "colab": {
          "base_uri": "https://localhost:8080/"
        },
        "id": "rYzW_S7xm8Aa",
        "outputId": "f340c549-1765-4843-b346-5f3296c63395"
      },
      "execution_count": null,
      "outputs": [
        {
          "output_type": "stream",
          "name": "stdout",
          "text": [
            "123\n"
          ]
        }
      ]
    },
    {
      "cell_type": "markdown",
      "source": [
        "## Similarity Search"
      ],
      "metadata": {
        "id": "QXffQlDbnI4C"
      }
    },
    {
      "cell_type": "code",
      "source": [
        "question = \"Due date of First project Report\"\n",
        "docs = vectordb.similarity_search(question,k=3)\n",
        "len(docs)"
      ],
      "metadata": {
        "colab": {
          "base_uri": "https://localhost:8080/"
        },
        "id": "FYW25KtInDnq",
        "outputId": "edb1d517-ebcf-4b74-c31e-fd4ba4032a80"
      },
      "execution_count": null,
      "outputs": [
        {
          "output_type": "execute_result",
          "data": {
            "text/plain": [
              "3"
            ]
          },
          "metadata": {},
          "execution_count": 33
        }
      ]
    },
    {
      "cell_type": "code",
      "source": [
        "docs[0].page_content"
      ],
      "metadata": {
        "colab": {
          "base_uri": "https://localhost:8080/",
          "height": 140
        },
        "id": "04bY31B1nSiy",
        "outputId": "27b2ab42-6b55-492c-87b0-a2baa2249482"
      },
      "execution_count": null,
      "outputs": [
        {
          "output_type": "execute_result",
          "data": {
            "text/plain": [
              "'First Project Report: Due Tuesday Week 4, Semester 1 Year 2 (academic mode), \\nTuesday week 4, Semester 2, Year 2 (placement mode) \\nStudents must submit a short report (2-3 pages) to their supervisor consisting of abstract \\nand detailing their understanding of the project objectives with a draft plan of work. A \\ntemplate will be made available on SurreyLearn. After the supervisor has agreed the \\ncontent, it can be submitted. This is done so that any misunderstandings can be identified \\nand corrected at an early stage, while also it ensures the supervisor and student have \\nagreed some clear target objectives both for the interim stage and the final dissertation. Also \\na clear project title will be set at this point. Therefore though the first report is not assessed, \\nit is in your best interests to get the details in it right so that it can set you in the right \\ndirection to then do well at your interim stage. We will take action with students who fail to \\nsubmit a first report in anticipation that they are failing to engage in their project properly. \\n \\nInterim Project Report (22%):  Due Tuesday Week 14, Semester 1 Year 2 (academic \\nmode) \\nInterim Project Report (22%):  Due Tuesday Week 14, Semester 2 Year 2 (placement \\nmode) \\nIn the first semester of the project, students should carry out background study and make \\nsignificant progress near to the halfway mark of the project. Their supervisor will give general'"
            ],
            "application/vnd.google.colaboratory.intrinsic+json": {
              "type": "string"
            }
          },
          "metadata": {},
          "execution_count": 34
        }
      ]
    },
    {
      "cell_type": "code",
      "source": [
        "vectordb.persist() #save this so we can use it later"
      ],
      "metadata": {
        "id": "X_jw4FELnXMZ"
      },
      "execution_count": null,
      "outputs": []
    },
    {
      "cell_type": "markdown",
      "source": [
        "# Retrieval of Information"
      ],
      "metadata": {
        "id": "GFQAapOdoOtz"
      }
    },
    {
      "cell_type": "markdown",
      "source": [
        "retrieev the vector db we saved"
      ],
      "metadata": {
        "id": "wur-JarnokP4"
      }
    },
    {
      "cell_type": "code",
      "source": [
        "persist_directory = '/content/chroma/'\n",
        "vectordb = Chroma(\n",
        "    persist_directory=persist_directory,\n",
        "    embedding_function=embedding\n",
        ")"
      ],
      "metadata": {
        "id": "25Cf7ulxn6gR"
      },
      "execution_count": null,
      "outputs": []
    },
    {
      "cell_type": "code",
      "source": [
        "print(vectordb._collection.count())"
      ],
      "metadata": {
        "colab": {
          "base_uri": "https://localhost:8080/"
        },
        "id": "94pYo5XGoqsC",
        "outputId": "734ed0c6-ca40-46f5-ec8f-4bbe6afe5dfd"
      },
      "execution_count": null,
      "outputs": [
        {
          "output_type": "stream",
          "name": "stdout",
          "text": [
            "123\n"
          ]
        }
      ]
    },
    {
      "cell_type": "markdown",
      "source": [
        "There are 2 ways with which we can retrieve:\n",
        "\n",
        "> similarity\n",
        "\n",
        "search_type=\"similarity\" uses similarity search in the retriever object where it selects text chunk vectors that are most similar to the question\n",
        "\n",
        "\n",
        "> maximum marginal relevance\n",
        "\n",
        "vector. search_type=\"mmr\" uses the maximum marginal relevance search where it optimizes for similarity to query AND diversity among selected documents.\n",
        "\n"
      ],
      "metadata": {
        "id": "s82cXP0uo-zc"
      }
    },
    {
      "cell_type": "code",
      "source": [
        "question = \"what did they say about Quality of Viva Presenting ?\"\n",
        "docs_ss = vectordb.similarity_search(question,k=3) #similaroty searrch"
      ],
      "metadata": {
        "id": "lo3w_PVLqncR"
      },
      "execution_count": null,
      "outputs": []
    },
    {
      "cell_type": "code",
      "source": [
        "docs_ss[0].page_content[:100]"
      ],
      "metadata": {
        "colab": {
          "base_uri": "https://localhost:8080/",
          "height": 36
        },
        "id": "UizbpC8urXyK",
        "outputId": "a9b752ea-d097-4467-f9d9-5a71bbedf145"
      },
      "execution_count": null,
      "outputs": [
        {
          "output_type": "execute_result",
          "data": {
            "text/plain": [
              "'apply them?  \\n14. Was there a high level of the enthusiasm and drive shown by the student?  \\nQuality'"
            ],
            "application/vnd.google.colaboratory.intrinsic+json": {
              "type": "string"
            }
          },
          "metadata": {},
          "execution_count": 39
        }
      ]
    },
    {
      "cell_type": "code",
      "source": [
        "docs_ss[1].page_content[:100]"
      ],
      "metadata": {
        "colab": {
          "base_uri": "https://localhost:8080/",
          "height": 36
        },
        "id": "W8mYLkHMrbVy",
        "outputId": "813c7b89-81ab-4ef1-d155-62479aebfaa4"
      },
      "execution_count": null,
      "outputs": [
        {
          "output_type": "execute_result",
          "data": {
            "text/plain": [
              "\"1. Was there a high level of the effectiveness of student's project planning?  \\n2. Was there a high \""
            ],
            "application/vnd.google.colaboratory.intrinsic+json": {
              "type": "string"
            }
          },
          "metadata": {},
          "execution_count": 40
        }
      ]
    },
    {
      "cell_type": "code",
      "source": [
        "docs_mmr = vectordb.max_marginal_relevance_search(question,k=3)\n",
        "docs_mmr[0].page_content[:100]"
      ],
      "metadata": {
        "colab": {
          "base_uri": "https://localhost:8080/",
          "height": 36
        },
        "id": "i8szchcXrc9c",
        "outputId": "8598bb45-e729-4ee5-c99b-165a58aeeda2"
      },
      "execution_count": null,
      "outputs": [
        {
          "output_type": "execute_result",
          "data": {
            "text/plain": [
              "'apply them?  \\n14. Was there a high level of the enthusiasm and drive shown by the student?  \\nQuality'"
            ],
            "application/vnd.google.colaboratory.intrinsic+json": {
              "type": "string"
            }
          },
          "metadata": {},
          "execution_count": 41
        }
      ]
    },
    {
      "cell_type": "code",
      "source": [
        "docs_mmr[1].page_content[:100]"
      ],
      "metadata": {
        "colab": {
          "base_uri": "https://localhost:8080/",
          "height": 36
        },
        "id": "5s2lJ312rkbz",
        "outputId": "dae77ca7-26c6-4545-df78-a3457fc1c93f"
      },
      "execution_count": null,
      "outputs": [
        {
          "output_type": "execute_result",
          "data": {
            "text/plain": [
              "'answers to questions and demonstrates an insufficient analysis of the results \\nto show their meaning'"
            ],
            "application/vnd.google.colaboratory.intrinsic+json": {
              "type": "string"
            }
          },
          "metadata": {},
          "execution_count": 42
        }
      ]
    },
    {
      "cell_type": "markdown",
      "source": [
        "What is I wanna perform similarioty search on specific metadata?"
      ],
      "metadata": {
        "id": "xfOfewnmrrge"
      }
    },
    {
      "cell_type": "code",
      "source": [
        "question = \"what did they say about achievements in Dissertation template?\"\n",
        "docs_ss = vectordb.similarity_search(question,k=3) #similaroty searrch"
      ],
      "metadata": {
        "id": "BzQplAE1rlzT"
      },
      "execution_count": null,
      "outputs": []
    },
    {
      "cell_type": "code",
      "source": [
        "docs_ss[0].page_content[:1000]"
      ],
      "metadata": {
        "colab": {
          "base_uri": "https://localhost:8080/",
          "height": 140
        },
        "id": "0jpV67A2sGIL",
        "outputId": "2f85e334-ea0f-4e4e-fa34-55e35a0e715a"
      },
      "execution_count": null,
      "outputs": [
        {
          "output_type": "execute_result",
          "data": {
            "text/plain": [
              "'79); Good (60-69); Adequate (50-59); Below expectations (40-49); Well below expectations \\n(30-39); Far below expectations (20-29); Far below expectations (10-19); Very far below \\nexpectations (0-9). The grade descriptions table in the appendix for these ten boundaries \\ndescribes what achievements a student typically makes when they fall within them. It should \\nbe noted that a mark of 50 or more is required to pass. \\nRecommended Format for a Project Dissertation \\nINTRODUCTION \\nFront covers and a report template are available on SurreyLearn and are released in good \\ntime before starting to write the dissertation. The front page of each copy must show the \\ncopyright holder (e.g. “ \\uf0d320xx Author’s name”, where xx is the year).  \\n \\nUNIVERSITY REQUIREMENTS AND LAYOUT \\nThe University requirements on format, employed in the template, are: \\nIt is a University requirement that MSc project reports be produced electronically on A4-size \\npaper and that all pages be numbered serially.  \\nPrepare your '"
            ],
            "application/vnd.google.colaboratory.intrinsic+json": {
              "type": "string"
            }
          },
          "metadata": {},
          "execution_count": 44
        }
      ]
    },
    {
      "cell_type": "code",
      "source": [
        "docs_ss = vectordb.similarity_search(\n",
        "    question,\n",
        "    k=3,\n",
        "    filter={\"source\":\"/content/drive/MyDrive/SteveBOi/disserTemplate.pdf\"}\n",
        ")"
      ],
      "metadata": {
        "id": "g1jZSz6GsJHM"
      },
      "execution_count": null,
      "outputs": []
    },
    {
      "cell_type": "code",
      "source": [
        "docs_ss[0]"
      ],
      "metadata": {
        "colab": {
          "base_uri": "https://localhost:8080/"
        },
        "id": "giac0FbosR4M",
        "outputId": "dccba280-2b02-493b-91b3-1ce5e61665ce"
      },
      "execution_count": null,
      "outputs": [
        {
          "output_type": "execute_result",
          "data": {
            "text/plain": [
              "Document(page_content=', MSc dissertation\\nexaminer will read. They want to know what you plan to do and see if you are on target to achieve\\nit. You will have listed these objectives in your first report and your interim report. Therefore copy\\nand paste them into this section and show them in bullet points each with no more than one\\nsentence like below:\\n1.Objective 1…..\\n2.Objective 2 ….\\n3.Objective 3 ….\\n4...\\n5.Objective N\\nYou may find that you need to slightly revise your objectives since writing your interim report.\\nThis is totally acceptable if you see a need but you are advised to discuss any revisions with your\\nsupervisor. Be very clear to understand what is an objective, i.e. a new output providing new\\nknowledge or bringing knowledge together. Therefore statements like “learn about …”, “perform\\nsimulations on…” or “write software code for…” are not objectives, they are tasks that would\\npossibly be required to form an objective. Therefore objectives are not tasks; they are statements of\\nwhat advances the work aims to or will make.\\nHaving listed your objectives you may wish to summarise below the tasks you carried out to fulfil\\nthe objectives, so that for example it gives an idea of what work was involved in the project such as\\nbuilding new hardware, performing simulations or carrying out theoretical analysis.\\n2.3Achievements\\nSummarise what you have achieved in your work, what are the highlights that the reader should\\nlook forward to reading about?\\n2.4Overview of Dissertation', metadata={'page': 7, 'source': '/content/drive/MyDrive/SteveBOi/disserTemplate.pdf'})"
            ]
          },
          "metadata": {},
          "execution_count": 46
        }
      ]
    },
    {
      "cell_type": "markdown",
      "source": [
        "# USE LLM for QnA"
      ],
      "metadata": {
        "id": "g1gVMVrLu1F3"
      }
    },
    {
      "cell_type": "code",
      "source": [
        "from langchain.chat_models import ChatOpenAI\n",
        "llm_name = \"gpt-3.5-turbo-0301\"\n",
        "llm = ChatOpenAI(model_name=llm_name, temperature=0)"
      ],
      "metadata": {
        "id": "rGScsrrysVJL"
      },
      "execution_count": null,
      "outputs": []
    },
    {
      "cell_type": "code",
      "source": [
        "from langchain.chains import RetrievalQA\n",
        "qa_chain = RetrievalQA.from_chain_type(\n",
        "    llm,\n",
        "    retriever=vectordb.as_retriever()\n",
        ")"
      ],
      "metadata": {
        "id": "sVC472UJwVfy"
      },
      "execution_count": null,
      "outputs": []
    },
    {
      "cell_type": "code",
      "source": [
        "question = \"what did they say about First Project Report?\"\n",
        "docs_ss = vectordb.similarity_search(    # this is just normal Similaritty search shown to view the document\n",
        "    question,\n",
        "    k=3,\n",
        ")\n",
        "docs_ss[0]"
      ],
      "metadata": {
        "colab": {
          "base_uri": "https://localhost:8080/"
        },
        "id": "WkHiw3ZFwolB",
        "outputId": "a3f13adb-5de5-4eac-dda4-e226cbdd2f50"
      },
      "execution_count": null,
      "outputs": [
        {
          "output_type": "execute_result",
          "data": {
            "text/plain": [
              "Document(page_content='You need to convince your prospective supervisor that you are worth “employing”. This also \\nmeans that you cannot afford to be too selective about projects or be unsure what you want \\nto do, you should really work out what is the right project for you and do everything to go for \\nit. \\n \\nFrom a specified date, supervisors will be allowed to allocate projects to students to whom \\nthey have offered them. This is to ensure equal opportunity for all students to apply for \\nprojects – but you need to act early as soon as they are advertised to be considered for the \\nprojects you most want to do. If you fail to act on time it is your fault. If the supervisor is \\ngoing to offer you a project, you will receive an email from them with the offer and will ask for \\nyou to confirm in writing. If you reply to say yes, they will allocate it to you on the project \\nwebsite. Please note that once a project is allocated to you it will be set in stone . \\nTherefore be sure what project you want to accept, just like you have to be sure you want to \\naccept a job when offered one – you cannot accept two at the same time. Only in \\nexceptional circumstances will we allow students to change projects after this point so do not \\nlet it happen to you in the first place. \\n \\nFirst Project Report: Due Tuesday Week 5, Semester 2 \\nStudents must submit a short report (up to six pages) to their supervisor consisting of \\nabstract and detailing their understanding of the project objectives with a draft plan of work', metadata={'page': 2, 'source': '/content/drive/MyDrive/SteveBOi/ProjectHandbook2023.pdf'})"
            ]
          },
          "metadata": {},
          "execution_count": 69
        }
      ]
    },
    {
      "cell_type": "code",
      "source": [
        "result = qa_chain({\"query\": question})\n",
        "result[\"result\"]"
      ],
      "metadata": {
        "colab": {
          "base_uri": "https://localhost:8080/",
          "height": 88
        },
        "id": "q2QuiodpwZog",
        "outputId": "b8209456-7684-4fe6-f0d3-8cff2d648e81"
      },
      "execution_count": null,
      "outputs": [
        {
          "output_type": "execute_result",
          "data": {
            "text/plain": [
              "\"The First Project Report is a short report (up to six pages) that is due on Tuesday Week 5 of Semester 2. It should consist of an abstract and detail the student's understanding of the project objectives with a draft plan of work. The report is not assessed, but it is in the student's best interest to get the details right so that it can set them in the right direction to do well at the interim stage. Students who fail to submit a first report may be seen as failing to engage in their project properly, and action may be taken.\""
            ],
            "application/vnd.google.colaboratory.intrinsic+json": {
              "type": "string"
            }
          },
          "metadata": {},
          "execution_count": 70
        }
      ]
    },
    {
      "cell_type": "markdown",
      "source": [
        "# Prompt Engineering"
      ],
      "metadata": {
        "id": "Ubbx-o65xHwI"
      }
    },
    {
      "cell_type": "code",
      "source": [
        "from langchain.prompts import PromptTemplate\n",
        "\n",
        "template = \"\"\"Use this context to answer the question: If you don't know the answer, just say that you don't know, don't try to make up an answer. Use three sentences maximum. Keep the answer as concise as possible. Always say \"thanks for asking! Steve was happy to help!\" at the end of the answer.\n",
        "{context}\n",
        "Question: {question}\n",
        "Helpful Answer:\"\"\"\n",
        "QA_CHAIN_PROMPT = PromptTemplate(input_variables=[\"context\", \"question\"],template=template,)"
      ],
      "metadata": {
        "id": "YbjTa3EAxKx4"
      },
      "execution_count": null,
      "outputs": []
    },
    {
      "cell_type": "code",
      "source": [
        "qa_chain = RetrievalQA.from_chain_type(\n",
        "    llm,\n",
        "    retriever=vectordb.as_retriever(),\n",
        "    return_source_documents=True,\n",
        "    chain_type_kwargs={\"prompt\": QA_CHAIN_PROMPT}\n",
        ")"
      ],
      "metadata": {
        "id": "yOaf4Ze3wjcw"
      },
      "execution_count": null,
      "outputs": []
    },
    {
      "cell_type": "code",
      "source": [
        "question = \"what did they say about First Project Report?\"\n",
        "result = qa_chain({\"query\": question})\n",
        "result[\"result\"] #thanks steve"
      ],
      "metadata": {
        "colab": {
          "base_uri": "https://localhost:8080/",
          "height": 70
        },
        "id": "pbRej3jOxehB",
        "outputId": "fdcf29bd-1067-4e81-d6f6-ad155c955310"
      },
      "execution_count": null,
      "outputs": [
        {
          "output_type": "execute_result",
          "data": {
            "text/plain": [
              "\"Students must submit a short report to their supervisor consisting of an abstract and detailing their understanding of the project objectives with a draft plan of work. It is not assessed, but it is in the student's best interest to get the details right. Failure to submit the report may result in action being taken by the university. Thanks for asking! Steve was happy to help!\""
            ],
            "application/vnd.google.colaboratory.intrinsic+json": {
              "type": "string"
            }
          },
          "metadata": {},
          "execution_count": 73
        }
      ]
    },
    {
      "cell_type": "code",
      "source": [
        "result[\"source_documents\"][0]"
      ],
      "metadata": {
        "colab": {
          "base_uri": "https://localhost:8080/"
        },
        "id": "12DR4oN2xjFH",
        "outputId": "59b819d8-7628-44da-f80e-2dedf5a65198"
      },
      "execution_count": null,
      "outputs": [
        {
          "output_type": "execute_result",
          "data": {
            "text/plain": [
              "Document(page_content='You need to convince your prospective supervisor that you are worth “employing”. This also \\nmeans that you cannot afford to be too selective about projects or be unsure what you want \\nto do, you should really work out what is the right project for you and do everything to go for \\nit. \\n \\nFrom a specified date, supervisors will be allowed to allocate projects to students to whom \\nthey have offered them. This is to ensure equal opportunity for all students to apply for \\nprojects – but you need to act early as soon as they are advertised to be considered for the \\nprojects you most want to do. If you fail to act on time it is your fault. If the supervisor is \\ngoing to offer you a project, you will receive an email from them with the offer and will ask for \\nyou to confirm in writing. If you reply to say yes, they will allocate it to you on the project \\nwebsite. Please note that once a project is allocated to you it will be set in stone . \\nTherefore be sure what project you want to accept, just like you have to be sure you want to \\naccept a job when offered one – you cannot accept two at the same time. Only in \\nexceptional circumstances will we allow students to change projects after this point so do not \\nlet it happen to you in the first place. \\n \\nFirst Project Report: Due Tuesday Week 5, Semester 2 \\nStudents must submit a short report (up to six pages) to their supervisor consisting of \\nabstract and detailing their understanding of the project objectives with a draft plan of work', metadata={'page': 2, 'source': '/content/drive/MyDrive/SteveBOi/ProjectHandbook2023.pdf'})"
            ]
          },
          "metadata": {},
          "execution_count": 54
        }
      ]
    },
    {
      "cell_type": "markdown",
      "source": [
        "But the prompts here are not saving the previous information, which is really important"
      ],
      "metadata": {
        "id": "4ok69gc0yYtP"
      }
    },
    {
      "cell_type": "code",
      "source": [
        "from langchain.memory import ConversationBufferMemory\n",
        "memory = ConversationBufferMemory(\n",
        "    memory_key=\"chat_history\",\n",
        "    return_messages=True\n",
        ")"
      ],
      "metadata": {
        "id": "iwHONbaxyLPX"
      },
      "execution_count": null,
      "outputs": []
    },
    {
      "cell_type": "code",
      "source": [
        "from langchain.chains import ConversationalRetrievalChain\n",
        "qa = ConversationalRetrievalChain.from_llm(   #\n",
        "    llm,\n",
        "    retriever=vectordb.as_retriever(),\n",
        "    memory=memory,\n",
        "    combine_docs_chain_kwargs={\"prompt\": QA_CHAIN_PROMPT}\n",
        ")"
      ],
      "metadata": {
        "id": "X_g4J84zzzni"
      },
      "execution_count": null,
      "outputs": []
    },
    {
      "cell_type": "code",
      "source": [
        "question = \"what did they say about First Project Report\"\n",
        "result = qa({\"question\": question})\n",
        "result['answer']"
      ],
      "metadata": {
        "colab": {
          "base_uri": "https://localhost:8080/",
          "height": 70
        },
        "id": "bnuSCUmS1sze",
        "outputId": "14ca8c63-5bf5-4943-eab9-35506d9ea41f"
      },
      "execution_count": null,
      "outputs": [
        {
          "output_type": "execute_result",
          "data": {
            "text/plain": [
              "'Students must submit a short report (2-3 pages) to their supervisor consisting of abstract and detailing their understanding of the project objectives with a draft plan of work. It is not assessed, but it is important to get the details right to set you in the right direction for the interim stage. Thanks for asking! Steve was happy to help!'"
            ],
            "application/vnd.google.colaboratory.intrinsic+json": {
              "type": "string"
            }
          },
          "metadata": {},
          "execution_count": 57
        }
      ]
    },
    {
      "cell_type": "code",
      "source": [
        "question = \"how many pages it should be?\"\n",
        "result = qa({\"question\": question})\n",
        "result['answer']"
      ],
      "metadata": {
        "colab": {
          "base_uri": "https://localhost:8080/",
          "height": 36
        },
        "id": "Kb2fbmIj18Hs",
        "outputId": "020e1dad-ea20-4306-ba3b-db1641fb9bc8"
      },
      "execution_count": null,
      "outputs": [
        {
          "output_type": "execute_result",
          "data": {
            "text/plain": [
              "'The First Project Report should be 2-3 pages long. Thanks for asking! Steve was happy to help!'"
            ],
            "application/vnd.google.colaboratory.intrinsic+json": {
              "type": "string"
            }
          },
          "metadata": {},
          "execution_count": 58
        }
      ]
    },
    {
      "cell_type": "code",
      "source": [
        "question = \"tell me about Surrey Court accommodation\"\n",
        "result = qa({\"question\": question})\n",
        "result['answer']"
      ],
      "metadata": {
        "colab": {
          "base_uri": "https://localhost:8080/",
          "height": 36
        },
        "id": "O3sLd9ad2qSp",
        "outputId": "ff44f72d-a455-4e15-948f-d03386020403"
      },
      "execution_count": null,
      "outputs": [
        {
          "output_type": "execute_result",
          "data": {
            "text/plain": [
              "'The First Project Report should be 2-3 pages long. Thanks for asking! Steve was happy to help!'"
            ],
            "application/vnd.google.colaboratory.intrinsic+json": {
              "type": "string"
            }
          },
          "metadata": {},
          "execution_count": 59
        }
      ]
    },
    {
      "cell_type": "code",
      "source": [
        "question = \"tell me about Surrey Court accommodation\"\n",
        "result = qa({\"question\": question})\n",
        "result['answer']"
      ],
      "metadata": {
        "colab": {
          "base_uri": "https://localhost:8080/",
          "height": 53
        },
        "id": "CnD-wkUN2ykV",
        "outputId": "bdf6d9f9-491b-4e2b-ca00-565fcedc6844"
      },
      "execution_count": null,
      "outputs": [
        {
          "output_type": "execute_result",
          "data": {
            "text/plain": [
              "'Surrey Court is a shared accommodation with 14 people in each flat. It has shared bathrooms but each room has a sink. There is plenty of storage space and maintenance issues are fixed quickly. Thanks for asking! Steve was happy to help!'"
            ],
            "application/vnd.google.colaboratory.intrinsic+json": {
              "type": "string"
            }
          },
          "metadata": {},
          "execution_count": 60
        }
      ]
    },
    {
      "cell_type": "code",
      "source": [
        "question = \"how many people are living in one accommodation?\"\n",
        "result = qa({\"question\": question})\n",
        "result['answer']"
      ],
      "metadata": {
        "colab": {
          "base_uri": "https://localhost:8080/",
          "height": 36
        },
        "id": "z1kuczZQ3Xvm",
        "outputId": "643372b4-ce89-45a5-fa12-9270ecb48ad2"
      },
      "execution_count": null,
      "outputs": [
        {
          "output_type": "execute_result",
          "data": {
            "text/plain": [
              "'There are 14 people living in each flat at Surrey Court accommodation. Thanks for asking! Steve was happy to help!'"
            ],
            "application/vnd.google.colaboratory.intrinsic+json": {
              "type": "string"
            }
          },
          "metadata": {},
          "execution_count": 61
        }
      ]
    },
    {
      "cell_type": "markdown",
      "source": [
        "# ChatBot"
      ],
      "metadata": {
        "id": "WGkupnm79qiv"
      }
    },
    {
      "cell_type": "code",
      "source": [
        "memory = ConversationBufferMemory(\n",
        "    memory_key=\"chat_history\",\n",
        "    return_messages=True\n",
        ")"
      ],
      "metadata": {
        "id": "4-GAUTrHC2uY"
      },
      "execution_count": null,
      "outputs": []
    },
    {
      "cell_type": "code",
      "source": [
        "qa = ConversationalRetrievalChain.from_llm(   #\n",
        "    llm,\n",
        "    retriever=vectordb.as_retriever(),\n",
        "    memory=memory,\n",
        "    combine_docs_chain_kwargs={\"prompt\": QA_CHAIN_PROMPT}\n",
        ")"
      ],
      "metadata": {
        "id": "I3wxsSVWC3iz"
      },
      "execution_count": null,
      "outputs": []
    },
    {
      "cell_type": "code",
      "source": [
        "def format_response(response, max_width=80):\n",
        "    words = response.split()\n",
        "    lines = []\n",
        "    current_line = \"\"\n",
        "    for word in words:\n",
        "        if len(current_line) + len(word) + 1 <= max_width:\n",
        "            current_line += word + \" \"\n",
        "        else:\n",
        "            lines.append(current_line.strip())\n",
        "            current_line = word + \" \"\n",
        "    if current_line:\n",
        "        lines.append(current_line.strip())\n",
        "    return \"\\n\".join(lines)\n",
        "\n",
        "\n",
        "def chat_with_bot():\n",
        "    print(\"Chatbot: Hi there! I'm here to answer your questions. Write exit to quit\")\n",
        "    while True:\n",
        "        user_input = input(\"You: \")\n",
        "\n",
        "        result = qa({\"question\": user_input})\n",
        "\n",
        "        # print(\"Chatbot:\", result['answer'])\n",
        "        print(\"Chatbot:\")\n",
        "        formatted_response = format_response(result['answer'])\n",
        "        print(formatted_response)\n",
        "\n",
        "\n",
        "        if \"exit\" in user_input.lower():\n",
        "            print(\"Chatbot: Goodbye! Steve the Stag was happy to serve!\")\n",
        "            break\n",
        "\n",
        "chat_with_bot()"
      ],
      "metadata": {
        "colab": {
          "base_uri": "https://localhost:8080/"
        },
        "id": "eogolEkV6df_",
        "outputId": "77436d1e-2345-4dcb-ea0a-b431b1c26974"
      },
      "execution_count": null,
      "outputs": [
        {
          "output_type": "stream",
          "name": "stdout",
          "text": [
            "Chatbot: Hi there! I'm here to answer your questions. Write exit to quit\n",
            "You: Tell me about accommodation\n",
            "Chatbot:\n",
            "The accommodation is called Bansi and it offers shared bathrooms but each room\n",
            "has a sink. The rooms have plenty of storage space and there are shared\n",
            "cupboards in the kitchen. The kitchen is big enough for 14 people and cleaning\n",
            "is provided. Thanks for asking! Steve was happy to help!\n",
            "You: How many toilets are there?\n",
            "Chatbot:\n",
            "There are three toilets available on each floor in the Bansi accommodation.\n",
            "Thanks for asking! Steve was happy to help!\n",
            "You: How many kitchen ?\n",
            "Chatbot:\n",
            "There is one kitchen in the Bansi accommodation. Thanks for asking! Steve was\n",
            "happy to help!\n",
            "You: Is there a wardrobe?\n",
            "Chatbot:\n",
            "Yes, the Bansi accommodation has a wardrobe in each room, along with other\n",
            "storage options such as a chest of drawers, shelves, space above the wardrobe,\n",
            "space below the sink, and under the bed. Thanks for asking! Steve was happy to\n",
            "help!\n",
            "You: Is there a heater in room?\n",
            "Chatbot:\n",
            "The video tour does not mention whether there is a heater in each room. Thanks\n",
            "for asking! Steve was happy to help!\n"
          ]
        }
      ]
    },
    {
      "cell_type": "code",
      "source": [
        "def format_response(response, max_width=80):\n",
        "    words = response.split()\n",
        "    lines = []\n",
        "    current_line = \"\"\n",
        "    for word in words:\n",
        "        if len(current_line) + len(word) + 1 <= max_width:\n",
        "            current_line += word + \" \"\n",
        "        else:\n",
        "            lines.append(current_line.strip())\n",
        "            current_line = word + \" \"\n",
        "    if current_line:\n",
        "        lines.append(current_line.strip())\n",
        "    return \"\\n\".join(lines)\n",
        "\n",
        "\n",
        "def chat_with_bot():\n",
        "    print(\"Chatbot: Hi there! I'm here to answer your questions. Write exit to quit\")\n",
        "    while True:\n",
        "        user_input = input(\"You: \")\n",
        "\n",
        "        result = qa({\"question\": user_input})\n",
        "\n",
        "        # print(\"Chatbot:\", result['answer'])\n",
        "        print(\"Chatbot:\")\n",
        "        formatted_response = format_response(result['answer'])\n",
        "        print(formatted_response)\n",
        "\n",
        "\n",
        "        if \"exit\" in user_input.lower():\n",
        "            print(\"Chatbot: Goodbye! Steve the Stag was happy to serve!\")\n",
        "            break\n",
        "\n",
        "chat_with_bot()"
      ],
      "metadata": {
        "id": "89wCq0M96diK",
        "colab": {
          "base_uri": "https://localhost:8080/"
        },
        "outputId": "cccf151d-11d6-4dd1-82f5-ba178cf2d8af"
      },
      "execution_count": null,
      "outputs": [
        {
          "output_type": "stream",
          "name": "stdout",
          "text": [
            "Chatbot: Hi there! I'm here to answer your questions. Write exit to quit\n",
            "You: Tell me about accommodation\n",
            "Chatbot:\n",
            "Bansi Accommodation is good value for what you get, with shared bathrooms but a\n",
            "sink in your room. Maintenance issues are quickly resolved and there is plenty\n",
            "of storage space in the rooms. The kitchen is shared with 14 people, but it's\n",
            "not crowded and cleaning is done for you. Thanks for asking! Steve was happy to\n",
            "help!\n",
            "You: How many toilets are there\n",
            "Chatbot:\n",
            "There are shared bathrooms with three showers and three toilets on each floor\n",
            "at Bansi Accommodation. Thanks for asking! Steve was happy to help!\n",
            "You: What about room heater\n",
            "Chatbot:\n",
            "The passage does not mention whether Bansi Accommodation provides room heaters\n",
            "or not. Thanks for asking! Steve was happy to help!\n",
            "You: exit\n",
            "Chatbot:\n",
            "Bansi Accommodation offers shared bathrooms but each room has a sink, which is\n",
            "convenient. Maintenance issues are promptly addressed and there is plenty of\n",
            "storage space in the rooms. The kitchen is well-equipped and shared with 14\n",
            "people, but it is not a problem as everyone is friendly and sociable. Thanks\n",
            "for asking! Steve was happy to help!\n",
            "Chatbot: Goodbye! Steve the Stag was happy to serve!\n"
          ]
        }
      ]
    },
    {
      "cell_type": "code",
      "source": [],
      "metadata": {
        "id": "z07LZanVJleA"
      },
      "execution_count": null,
      "outputs": []
    }
  ]
}